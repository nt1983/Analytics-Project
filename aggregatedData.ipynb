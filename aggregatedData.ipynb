{
 "cells": [
  {
   "cell_type": "code",
   "execution_count": 1,
   "metadata": {},
   "outputs": [],
   "source": [
    "import pandas as pd\n",
    "import datetime as dt"
   ]
  },
  {
   "cell_type": "code",
   "execution_count": 2,
   "metadata": {},
   "outputs": [
    {
     "output_type": "stream",
     "name": "stderr",
     "text": [
      "/opt/anaconda3/lib/python3.7/site-packages/IPython/core/interactiveshell.py:3063: DtypeWarning: Columns (2) have mixed types.Specify dtype option on import or set low_memory=False.\n  interactivity=interactivity, compiler=compiler, result=result)\n"
     ]
    }
   ],
   "source": [
    "df_products = pd.read_csv(\"merge_fullIdClean.csv\")\n"
   ]
  },
  {
   "cell_type": "code",
   "execution_count": 3,
   "metadata": {},
   "outputs": [
    {
     "output_type": "execute_result",
     "data": {
      "text/plain": [
       "   Unnamed: 0        fullVisitorId v2ProductCategory        date\n",
       "0           0  5182045908444892546      Home/Office/  20161111.0\n",
       "1           1  5182045908444892546      Home/Office/  20161111.0\n",
       "2           2  5182045908444892546      Home/Office/  20161111.0\n",
       "3           3  5182045908444892546      Home/Office/  20161111.0\n",
       "4           4  5182045908444892546      Home/Office/  20161111.0"
      ],
      "text/html": "<div>\n<style scoped>\n    .dataframe tbody tr th:only-of-type {\n        vertical-align: middle;\n    }\n\n    .dataframe tbody tr th {\n        vertical-align: top;\n    }\n\n    .dataframe thead th {\n        text-align: right;\n    }\n</style>\n<table border=\"1\" class=\"dataframe\">\n  <thead>\n    <tr style=\"text-align: right;\">\n      <th></th>\n      <th>Unnamed: 0</th>\n      <th>fullVisitorId</th>\n      <th>v2ProductCategory</th>\n      <th>date</th>\n    </tr>\n  </thead>\n  <tbody>\n    <tr>\n      <th>0</th>\n      <td>0</td>\n      <td>5182045908444892546</td>\n      <td>Home/Office/</td>\n      <td>20161111.0</td>\n    </tr>\n    <tr>\n      <th>1</th>\n      <td>1</td>\n      <td>5182045908444892546</td>\n      <td>Home/Office/</td>\n      <td>20161111.0</td>\n    </tr>\n    <tr>\n      <th>2</th>\n      <td>2</td>\n      <td>5182045908444892546</td>\n      <td>Home/Office/</td>\n      <td>20161111.0</td>\n    </tr>\n    <tr>\n      <th>3</th>\n      <td>3</td>\n      <td>5182045908444892546</td>\n      <td>Home/Office/</td>\n      <td>20161111.0</td>\n    </tr>\n    <tr>\n      <th>4</th>\n      <td>4</td>\n      <td>5182045908444892546</td>\n      <td>Home/Office/</td>\n      <td>20161111.0</td>\n    </tr>\n  </tbody>\n</table>\n</div>"
     },
     "metadata": {},
     "execution_count": 3
    }
   ],
   "source": [
    "df_products.head()"
   ]
  },
  {
   "cell_type": "code",
   "execution_count": 4,
   "metadata": {},
   "outputs": [
    {
     "output_type": "execute_result",
     "data": {
      "text/plain": [
       "         Unnamed: 0        fullVisitorId v2ProductCategory       date\n",
       "0                 0  5182045908444892546      Home/Office/ 2016-11-11\n",
       "1                 1  5182045908444892546      Home/Office/ 2016-11-11\n",
       "2                 2  5182045908444892546      Home/Office/ 2016-11-11\n",
       "3                 3  5182045908444892546      Home/Office/ 2016-11-11\n",
       "4                 4  5182045908444892546      Home/Office/ 2016-11-11\n",
       "...             ...                  ...               ...        ...\n",
       "2674615     2864492  2428100605123827385               NaN 2016-11-30\n",
       "2674616     2864493  6701510782277361213               NaN 2016-11-30\n",
       "2674617     2864494   213959680705510975               NaN 2016-11-30\n",
       "2674618     2864495  6654269282597048936               NaN 2016-11-30\n",
       "2674619     2864496  5931368927684740778               NaN 2016-11-30\n",
       "\n",
       "[2674620 rows x 4 columns]"
      ],
      "text/html": "<div>\n<style scoped>\n    .dataframe tbody tr th:only-of-type {\n        vertical-align: middle;\n    }\n\n    .dataframe tbody tr th {\n        vertical-align: top;\n    }\n\n    .dataframe thead th {\n        text-align: right;\n    }\n</style>\n<table border=\"1\" class=\"dataframe\">\n  <thead>\n    <tr style=\"text-align: right;\">\n      <th></th>\n      <th>Unnamed: 0</th>\n      <th>fullVisitorId</th>\n      <th>v2ProductCategory</th>\n      <th>date</th>\n    </tr>\n  </thead>\n  <tbody>\n    <tr>\n      <th>0</th>\n      <td>0</td>\n      <td>5182045908444892546</td>\n      <td>Home/Office/</td>\n      <td>2016-11-11</td>\n    </tr>\n    <tr>\n      <th>1</th>\n      <td>1</td>\n      <td>5182045908444892546</td>\n      <td>Home/Office/</td>\n      <td>2016-11-11</td>\n    </tr>\n    <tr>\n      <th>2</th>\n      <td>2</td>\n      <td>5182045908444892546</td>\n      <td>Home/Office/</td>\n      <td>2016-11-11</td>\n    </tr>\n    <tr>\n      <th>3</th>\n      <td>3</td>\n      <td>5182045908444892546</td>\n      <td>Home/Office/</td>\n      <td>2016-11-11</td>\n    </tr>\n    <tr>\n      <th>4</th>\n      <td>4</td>\n      <td>5182045908444892546</td>\n      <td>Home/Office/</td>\n      <td>2016-11-11</td>\n    </tr>\n    <tr>\n      <th>...</th>\n      <td>...</td>\n      <td>...</td>\n      <td>...</td>\n      <td>...</td>\n    </tr>\n    <tr>\n      <th>2674615</th>\n      <td>2864492</td>\n      <td>2428100605123827385</td>\n      <td>NaN</td>\n      <td>2016-11-30</td>\n    </tr>\n    <tr>\n      <th>2674616</th>\n      <td>2864493</td>\n      <td>6701510782277361213</td>\n      <td>NaN</td>\n      <td>2016-11-30</td>\n    </tr>\n    <tr>\n      <th>2674617</th>\n      <td>2864494</td>\n      <td>213959680705510975</td>\n      <td>NaN</td>\n      <td>2016-11-30</td>\n    </tr>\n    <tr>\n      <th>2674618</th>\n      <td>2864495</td>\n      <td>6654269282597048936</td>\n      <td>NaN</td>\n      <td>2016-11-30</td>\n    </tr>\n    <tr>\n      <th>2674619</th>\n      <td>2864496</td>\n      <td>5931368927684740778</td>\n      <td>NaN</td>\n      <td>2016-11-30</td>\n    </tr>\n  </tbody>\n</table>\n<p>2674620 rows × 4 columns</p>\n</div>"
     },
     "metadata": {},
     "execution_count": 4
    }
   ],
   "source": [
    "df_products['date'] = pd.to_datetime(df_products['date'].astype(str), format='%Y%m%d')\n",
    "df_products"
   ]
  },
  {
   "cell_type": "code",
   "execution_count": 5,
   "metadata": {
    "scrolled": true
   },
   "outputs": [
    {
     "output_type": "execute_result",
     "data": {
      "text/plain": [
       "Index(['Unnamed: 0', 'fullVisitorId', 'v2ProductCategory', 'date'], dtype='object')"
      ]
     },
     "metadata": {},
     "execution_count": 5
    }
   ],
   "source": [
    "df_products.columns"
   ]
  },
  {
   "cell_type": "code",
   "execution_count": 10,
   "metadata": {},
   "outputs": [
    {
     "output_type": "execute_result",
     "data": {
      "text/plain": [
       "           date          v2ProductCategory  count\n",
       "0    2016-11-01                    Apparel      1\n",
       "1    2016-11-01                  Backpacks      1\n",
       "2    2016-11-01                       Bags      1\n",
       "3    2016-11-01                    Bottles      1\n",
       "4    2016-11-01                  Drinkware      1\n",
       "...         ...                        ...    ...\n",
       "1628 2016-11-30                  Lifestyle      1\n",
       "1629 2016-11-30                 Lifestyle/      1\n",
       "1630 2016-11-30       Notebooks & Journals      1\n",
       "1631 2016-11-30                     Office      1\n",
       "1632 2016-11-30  Wearables/Men's T-Shirts/      1\n",
       "\n",
       "[1633 rows x 3 columns]"
      ],
      "text/html": "<div>\n<style scoped>\n    .dataframe tbody tr th:only-of-type {\n        vertical-align: middle;\n    }\n\n    .dataframe tbody tr th {\n        vertical-align: top;\n    }\n\n    .dataframe thead th {\n        text-align: right;\n    }\n</style>\n<table border=\"1\" class=\"dataframe\">\n  <thead>\n    <tr style=\"text-align: right;\">\n      <th></th>\n      <th>date</th>\n      <th>v2ProductCategory</th>\n      <th>count</th>\n    </tr>\n  </thead>\n  <tbody>\n    <tr>\n      <th>0</th>\n      <td>2016-11-01</td>\n      <td>Apparel</td>\n      <td>1</td>\n    </tr>\n    <tr>\n      <th>1</th>\n      <td>2016-11-01</td>\n      <td>Backpacks</td>\n      <td>1</td>\n    </tr>\n    <tr>\n      <th>2</th>\n      <td>2016-11-01</td>\n      <td>Bags</td>\n      <td>1</td>\n    </tr>\n    <tr>\n      <th>3</th>\n      <td>2016-11-01</td>\n      <td>Bottles</td>\n      <td>1</td>\n    </tr>\n    <tr>\n      <th>4</th>\n      <td>2016-11-01</td>\n      <td>Drinkware</td>\n      <td>1</td>\n    </tr>\n    <tr>\n      <th>...</th>\n      <td>...</td>\n      <td>...</td>\n      <td>...</td>\n    </tr>\n    <tr>\n      <th>1628</th>\n      <td>2016-11-30</td>\n      <td>Lifestyle</td>\n      <td>1</td>\n    </tr>\n    <tr>\n      <th>1629</th>\n      <td>2016-11-30</td>\n      <td>Lifestyle/</td>\n      <td>1</td>\n    </tr>\n    <tr>\n      <th>1630</th>\n      <td>2016-11-30</td>\n      <td>Notebooks &amp; Journals</td>\n      <td>1</td>\n    </tr>\n    <tr>\n      <th>1631</th>\n      <td>2016-11-30</td>\n      <td>Office</td>\n      <td>1</td>\n    </tr>\n    <tr>\n      <th>1632</th>\n      <td>2016-11-30</td>\n      <td>Wearables/Men's T-Shirts/</td>\n      <td>1</td>\n    </tr>\n  </tbody>\n</table>\n<p>1633 rows × 3 columns</p>\n</div>"
     },
     "metadata": {},
     "execution_count": 10
    }
   ],
   "source": [
    "df_products = df_products.groupby([\"date\", \"v2ProductCategory\"])[\"date\"].agg([\"count\"]).reset_index()\n",
    "df_products"
   ]
  },
  {
   "cell_type": "code",
   "execution_count": 7,
   "metadata": {},
   "outputs": [],
   "source": [
    "df_products.to_csv(\"dateProductCount.csv\", index=False)"
   ]
  },
  {
   "cell_type": "code",
   "execution_count": null,
   "metadata": {},
   "outputs": [],
   "source": []
  }
 ],
 "metadata": {
  "kernelspec": {
   "display_name": "Python 3",
   "language": "python",
   "name": "python3"
  },
  "language_info": {
   "codemirror_mode": {
    "name": "ipython",
    "version": 3
   },
   "file_extension": ".py",
   "mimetype": "text/x-python",
   "name": "python",
   "nbconvert_exporter": "python",
   "pygments_lexer": "ipython3",
   "version": "3.7.6-final"
  }
 },
 "nbformat": 4,
 "nbformat_minor": 4
}