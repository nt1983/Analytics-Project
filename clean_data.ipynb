{
 "metadata": {
  "language_info": {
   "codemirror_mode": {
    "name": "ipython",
    "version": 3
   },
   "file_extension": ".py",
   "mimetype": "text/x-python",
   "name": "python",
   "nbconvert_exporter": "python",
   "pygments_lexer": "ipython3",
   "version": "3.8.5"
  },
  "orig_nbformat": 2,
  "kernelspec": {
   "name": "python385jvsc74a57bd033888a5d72fd546c510608f5704d454dda4fecfe28f012ab1603f1178be745ca",
   "display_name": "Python 3.8.5 64-bit ('base': conda)"
  }
 },
 "nbformat": 4,
 "nbformat_minor": 2,
 "cells": [
  {
   "cell_type": "code",
   "execution_count": 1,
   "metadata": {},
   "outputs": [],
   "source": [
    "import pandas as pd\n",
    "import numpy as np\n",
    "import sqlalchemy\n",
    "from sqlalchemy.ext.automap import automap_base\n",
    "from sqlalchemy.orm import Session\n",
    "from sqlalchemy import create_engine, inspect, func\n",
    "import os, sys\n",
    "import datetime as dt"
   ]
  },
  {
   "cell_type": "code",
   "execution_count": 2,
   "metadata": {},
   "outputs": [
    {
     "output_type": "execute_result",
     "data": {
      "text/plain": [
       "   visitNumber     visitId  visitStartTime      date        fullVisitorId  \\\n",
       "0            1  1478008845      1478008845  20161101  9352881518669559847   \n",
       "1            1  1478002133      1478002133  20161101  4906813510055416703   \n",
       "2            1  1477995977      1477995977  20161101  4091646801425702074   \n",
       "3            1  1478034201      1478034201  20161101  5401793363522001290   \n",
       "4            1  1478055650      1478055650  20161101  4440833520759626888   \n",
       "\n",
       "  channelGrouping  socialEngagementType  visits  hits  pageviews  ...  \\\n",
       "0  Organic Search  Not Socially Engaged       1     1        1.0  ...   \n",
       "1  Organic Search  Not Socially Engaged       1     1        1.0  ...   \n",
       "2  Organic Search  Not Socially Engaged       1     1        1.0  ...   \n",
       "3          Direct  Not Socially Engaged       1     1        1.0  ...   \n",
       "4  Organic Search  Not Socially Engaged       1     1        1.0  ...   \n",
       "\n",
       "      browser  operatingSystem  isMobile deviceCategory continent  \\\n",
       "0      Chrome          Android      True         mobile    Europe   \n",
       "1      Chrome          Windows     False        desktop      Asia   \n",
       "2      Chrome          Windows     False        desktop    Europe   \n",
       "3  Opera Mini          Android      True         mobile    Africa   \n",
       "4      Chrome            Linux     False        desktop  Americas   \n",
       "\n",
       "       subContinent        country                         region  \\\n",
       "0    Western Europe        Germany                        Hamburg   \n",
       "1      Eastern Asia         Taiwan                    Taipei City   \n",
       "2   Southern Europe          Spain  not available in demo dataset   \n",
       "3    Western Africa          Niger  not available in demo dataset   \n",
       "4  Northern America  United States  not available in demo dataset   \n",
       "\n",
       "                            city  networkDomain  \n",
       "0                        Hamburg      (not set)  \n",
       "1                      (not set)      hinet.net  \n",
       "2  not available in demo dataset  comunitel.net  \n",
       "3  not available in demo dataset      (not set)  \n",
       "4  not available in demo dataset       utah.edu  \n",
       "\n",
       "[5 rows x 30 columns]"
      ],
      "text/html": "<div>\n<style scoped>\n    .dataframe tbody tr th:only-of-type {\n        vertical-align: middle;\n    }\n\n    .dataframe tbody tr th {\n        vertical-align: top;\n    }\n\n    .dataframe thead th {\n        text-align: right;\n    }\n</style>\n<table border=\"1\" class=\"dataframe\">\n  <thead>\n    <tr style=\"text-align: right;\">\n      <th></th>\n      <th>visitNumber</th>\n      <th>visitId</th>\n      <th>visitStartTime</th>\n      <th>date</th>\n      <th>fullVisitorId</th>\n      <th>channelGrouping</th>\n      <th>socialEngagementType</th>\n      <th>visits</th>\n      <th>hits</th>\n      <th>pageviews</th>\n      <th>...</th>\n      <th>browser</th>\n      <th>operatingSystem</th>\n      <th>isMobile</th>\n      <th>deviceCategory</th>\n      <th>continent</th>\n      <th>subContinent</th>\n      <th>country</th>\n      <th>region</th>\n      <th>city</th>\n      <th>networkDomain</th>\n    </tr>\n  </thead>\n  <tbody>\n    <tr>\n      <th>0</th>\n      <td>1</td>\n      <td>1478008845</td>\n      <td>1478008845</td>\n      <td>20161101</td>\n      <td>9352881518669559847</td>\n      <td>Organic Search</td>\n      <td>Not Socially Engaged</td>\n      <td>1</td>\n      <td>1</td>\n      <td>1.0</td>\n      <td>...</td>\n      <td>Chrome</td>\n      <td>Android</td>\n      <td>True</td>\n      <td>mobile</td>\n      <td>Europe</td>\n      <td>Western Europe</td>\n      <td>Germany</td>\n      <td>Hamburg</td>\n      <td>Hamburg</td>\n      <td>(not set)</td>\n    </tr>\n    <tr>\n      <th>1</th>\n      <td>1</td>\n      <td>1478002133</td>\n      <td>1478002133</td>\n      <td>20161101</td>\n      <td>4906813510055416703</td>\n      <td>Organic Search</td>\n      <td>Not Socially Engaged</td>\n      <td>1</td>\n      <td>1</td>\n      <td>1.0</td>\n      <td>...</td>\n      <td>Chrome</td>\n      <td>Windows</td>\n      <td>False</td>\n      <td>desktop</td>\n      <td>Asia</td>\n      <td>Eastern Asia</td>\n      <td>Taiwan</td>\n      <td>Taipei City</td>\n      <td>(not set)</td>\n      <td>hinet.net</td>\n    </tr>\n    <tr>\n      <th>2</th>\n      <td>1</td>\n      <td>1477995977</td>\n      <td>1477995977</td>\n      <td>20161101</td>\n      <td>4091646801425702074</td>\n      <td>Organic Search</td>\n      <td>Not Socially Engaged</td>\n      <td>1</td>\n      <td>1</td>\n      <td>1.0</td>\n      <td>...</td>\n      <td>Chrome</td>\n      <td>Windows</td>\n      <td>False</td>\n      <td>desktop</td>\n      <td>Europe</td>\n      <td>Southern Europe</td>\n      <td>Spain</td>\n      <td>not available in demo dataset</td>\n      <td>not available in demo dataset</td>\n      <td>comunitel.net</td>\n    </tr>\n    <tr>\n      <th>3</th>\n      <td>1</td>\n      <td>1478034201</td>\n      <td>1478034201</td>\n      <td>20161101</td>\n      <td>5401793363522001290</td>\n      <td>Direct</td>\n      <td>Not Socially Engaged</td>\n      <td>1</td>\n      <td>1</td>\n      <td>1.0</td>\n      <td>...</td>\n      <td>Opera Mini</td>\n      <td>Android</td>\n      <td>True</td>\n      <td>mobile</td>\n      <td>Africa</td>\n      <td>Western Africa</td>\n      <td>Niger</td>\n      <td>not available in demo dataset</td>\n      <td>not available in demo dataset</td>\n      <td>(not set)</td>\n    </tr>\n    <tr>\n      <th>4</th>\n      <td>1</td>\n      <td>1478055650</td>\n      <td>1478055650</td>\n      <td>20161101</td>\n      <td>4440833520759626888</td>\n      <td>Organic Search</td>\n      <td>Not Socially Engaged</td>\n      <td>1</td>\n      <td>1</td>\n      <td>1.0</td>\n      <td>...</td>\n      <td>Chrome</td>\n      <td>Linux</td>\n      <td>False</td>\n      <td>desktop</td>\n      <td>Americas</td>\n      <td>Northern America</td>\n      <td>United States</td>\n      <td>not available in demo dataset</td>\n      <td>not available in demo dataset</td>\n      <td>utah.edu</td>\n    </tr>\n  </tbody>\n</table>\n<p>5 rows × 30 columns</p>\n</div>"
     },
     "metadata": {},
     "execution_count": 2
    }
   ],
   "source": [
    "main_data = pd.read_csv(\"C:\\Boot Camp\\Homework\\project3\\CSV export\\Main_table.csv\")\n",
    "main_data.head()"
   ]
  },
  {
   "cell_type": "code",
   "execution_count": 3,
   "metadata": {},
   "outputs": [
    {
     "output_type": "execute_result",
     "data": {
      "text/plain": [
       "      visitId        fullVisitorId      date channelGrouping  hits  \\\n",
       "0  1478008845  9352881518669559847  20161101  Organic Search     1   \n",
       "1  1478002133  4906813510055416703  20161101  Organic Search     1   \n",
       "2  1477995977  4091646801425702074  20161101  Organic Search     1   \n",
       "3  1478034201  5401793363522001290  20161101          Direct     1   \n",
       "4  1478055650  4440833520759626888  20161101  Organic Search     1   \n",
       "\n",
       "   timeOnSite     browser operatingSystem deviceCategory continent  \\\n",
       "0         NaN      Chrome         Android         mobile    Europe   \n",
       "1         NaN      Chrome         Windows        desktop      Asia   \n",
       "2         NaN      Chrome         Windows        desktop    Europe   \n",
       "3         NaN  Opera Mini         Android         mobile    Africa   \n",
       "4         NaN      Chrome           Linux        desktop  Americas   \n",
       "\n",
       "         country                         region  \\\n",
       "0        Germany                        Hamburg   \n",
       "1         Taiwan                    Taipei City   \n",
       "2          Spain  not available in demo dataset   \n",
       "3          Niger  not available in demo dataset   \n",
       "4  United States  not available in demo dataset   \n",
       "\n",
       "                            city  networkDomain  \n",
       "0                        Hamburg      (not set)  \n",
       "1                      (not set)      hinet.net  \n",
       "2  not available in demo dataset  comunitel.net  \n",
       "3  not available in demo dataset      (not set)  \n",
       "4  not available in demo dataset       utah.edu  "
      ],
      "text/html": "<div>\n<style scoped>\n    .dataframe tbody tr th:only-of-type {\n        vertical-align: middle;\n    }\n\n    .dataframe tbody tr th {\n        vertical-align: top;\n    }\n\n    .dataframe thead th {\n        text-align: right;\n    }\n</style>\n<table border=\"1\" class=\"dataframe\">\n  <thead>\n    <tr style=\"text-align: right;\">\n      <th></th>\n      <th>visitId</th>\n      <th>fullVisitorId</th>\n      <th>date</th>\n      <th>channelGrouping</th>\n      <th>hits</th>\n      <th>timeOnSite</th>\n      <th>browser</th>\n      <th>operatingSystem</th>\n      <th>deviceCategory</th>\n      <th>continent</th>\n      <th>country</th>\n      <th>region</th>\n      <th>city</th>\n      <th>networkDomain</th>\n    </tr>\n  </thead>\n  <tbody>\n    <tr>\n      <th>0</th>\n      <td>1478008845</td>\n      <td>9352881518669559847</td>\n      <td>20161101</td>\n      <td>Organic Search</td>\n      <td>1</td>\n      <td>NaN</td>\n      <td>Chrome</td>\n      <td>Android</td>\n      <td>mobile</td>\n      <td>Europe</td>\n      <td>Germany</td>\n      <td>Hamburg</td>\n      <td>Hamburg</td>\n      <td>(not set)</td>\n    </tr>\n    <tr>\n      <th>1</th>\n      <td>1478002133</td>\n      <td>4906813510055416703</td>\n      <td>20161101</td>\n      <td>Organic Search</td>\n      <td>1</td>\n      <td>NaN</td>\n      <td>Chrome</td>\n      <td>Windows</td>\n      <td>desktop</td>\n      <td>Asia</td>\n      <td>Taiwan</td>\n      <td>Taipei City</td>\n      <td>(not set)</td>\n      <td>hinet.net</td>\n    </tr>\n    <tr>\n      <th>2</th>\n      <td>1477995977</td>\n      <td>4091646801425702074</td>\n      <td>20161101</td>\n      <td>Organic Search</td>\n      <td>1</td>\n      <td>NaN</td>\n      <td>Chrome</td>\n      <td>Windows</td>\n      <td>desktop</td>\n      <td>Europe</td>\n      <td>Spain</td>\n      <td>not available in demo dataset</td>\n      <td>not available in demo dataset</td>\n      <td>comunitel.net</td>\n    </tr>\n    <tr>\n      <th>3</th>\n      <td>1478034201</td>\n      <td>5401793363522001290</td>\n      <td>20161101</td>\n      <td>Direct</td>\n      <td>1</td>\n      <td>NaN</td>\n      <td>Opera Mini</td>\n      <td>Android</td>\n      <td>mobile</td>\n      <td>Africa</td>\n      <td>Niger</td>\n      <td>not available in demo dataset</td>\n      <td>not available in demo dataset</td>\n      <td>(not set)</td>\n    </tr>\n    <tr>\n      <th>4</th>\n      <td>1478055650</td>\n      <td>4440833520759626888</td>\n      <td>20161101</td>\n      <td>Organic Search</td>\n      <td>1</td>\n      <td>NaN</td>\n      <td>Chrome</td>\n      <td>Linux</td>\n      <td>desktop</td>\n      <td>Americas</td>\n      <td>United States</td>\n      <td>not available in demo dataset</td>\n      <td>not available in demo dataset</td>\n      <td>utah.edu</td>\n    </tr>\n  </tbody>\n</table>\n</div>"
     },
     "metadata": {},
     "execution_count": 3
    }
   ],
   "source": [
    "clean_main_data=main_data[[\"visitId\", \"fullVisitorId\", \"date\", \"channelGrouping\", \"hits\", \"timeOnSite\", \"browser\", \"operatingSystem\", \"deviceCategory\", \"continent\", \"country\", \"region\", \"city\", \"networkDomain\"]].copy()\n",
    "clean_main_data.head()"
   ]
  },
  {
   "cell_type": "code",
   "execution_count": 20,
   "metadata": {},
   "outputs": [],
   "source": [
    "clean_main_data.to_csv(\"templates/static/data/clean_main_data.csv\", index=False)"
   ]
  },
  {
   "cell_type": "code",
   "execution_count": 15,
   "metadata": {},
   "outputs": [
    {
     "output_type": "execute_result",
     "data": {
      "text/plain": [
       "113971"
      ]
     },
     "metadata": {},
     "execution_count": 15
    }
   ],
   "source": [
    "clean_main_data[\"fullVisitorId\"].count()"
   ]
  },
  {
   "cell_type": "code",
   "execution_count": 16,
   "metadata": {},
   "outputs": [
    {
     "output_type": "execute_result",
     "data": {
      "text/plain": [
       "  Device_Name  Device_Count  Device_Percentage\n",
       "0     desktop         95496              83.79\n",
       "1      mobile         15910              13.96\n",
       "2      tablet          2564               2.25"
      ],
      "text/html": "<div>\n<style scoped>\n    .dataframe tbody tr th:only-of-type {\n        vertical-align: middle;\n    }\n\n    .dataframe tbody tr th {\n        vertical-align: top;\n    }\n\n    .dataframe thead th {\n        text-align: right;\n    }\n</style>\n<table border=\"1\" class=\"dataframe\">\n  <thead>\n    <tr style=\"text-align: right;\">\n      <th></th>\n      <th>Device_Name</th>\n      <th>Device_Count</th>\n      <th>Device_Percentage</th>\n    </tr>\n  </thead>\n  <tbody>\n    <tr>\n      <th>0</th>\n      <td>desktop</td>\n      <td>95496</td>\n      <td>83.79</td>\n    </tr>\n    <tr>\n      <th>1</th>\n      <td>mobile</td>\n      <td>15910</td>\n      <td>13.96</td>\n    </tr>\n    <tr>\n      <th>2</th>\n      <td>tablet</td>\n      <td>2564</td>\n      <td>2.25</td>\n    </tr>\n  </tbody>\n</table>\n</div>"
     },
     "metadata": {},
     "execution_count": 16
    }
   ],
   "source": [
    "grouped_data=main_data.groupby(\"visitId\")\n",
    "Nov_device_count=grouped_data[\"deviceCategory\"].head().value_counts()\n",
    "total_counts=grouped_data[\"deviceCategory\"].head().count()\n",
    "Nov_percentage=[]\n",
    "for a in Nov_device_count:\n",
    "    result=round(a/total_counts*100,2)\n",
    "    Nov_percentage.append(result)\n",
    "Nov_devices=pd.DataFrame({\"Device_Name\":Nov_device_count.keys(), \"Device_Count\":Nov_device_count.values, \"Device_Percentage\": Nov_percentage})\n",
    "Nov_devices.head()"
   ]
  },
  {
   "cell_type": "code",
   "execution_count": 19,
   "metadata": {},
   "outputs": [],
   "source": [
    "Nov_devices.to_csv(\"templates/static/data/Nov_devices.csv\", index=False)\n",
    "#Nov_devices.to_json(\"data/Nov_devices.json\", orient=\"records\")"
   ]
  },
  {
   "cell_type": "code",
   "execution_count": 21,
   "metadata": {},
   "outputs": [
    {
     "output_type": "execute_result",
     "data": {
      "text/plain": [
       "  Device_Name  Device_Count  Device_Percentage\n",
       "0     desktop          3024              80.45\n",
       "1      mobile           623              16.57\n",
       "2      tablet           112               2.98"
      ],
      "text/html": "<div>\n<style scoped>\n    .dataframe tbody tr th:only-of-type {\n        vertical-align: middle;\n    }\n\n    .dataframe tbody tr th {\n        vertical-align: top;\n    }\n\n    .dataframe thead th {\n        text-align: right;\n    }\n</style>\n<table border=\"1\" class=\"dataframe\">\n  <thead>\n    <tr style=\"text-align: right;\">\n      <th></th>\n      <th>Device_Name</th>\n      <th>Device_Count</th>\n      <th>Device_Percentage</th>\n    </tr>\n  </thead>\n  <tbody>\n    <tr>\n      <th>0</th>\n      <td>desktop</td>\n      <td>3024</td>\n      <td>80.45</td>\n    </tr>\n    <tr>\n      <th>1</th>\n      <td>mobile</td>\n      <td>623</td>\n      <td>16.57</td>\n    </tr>\n    <tr>\n      <th>2</th>\n      <td>tablet</td>\n      <td>112</td>\n      <td>2.98</td>\n    </tr>\n  </tbody>\n</table>\n</div>"
     },
     "metadata": {},
     "execution_count": 21
    }
   ],
   "source": [
    "black_friday_group=main_data[(main_data[\"date\"]==20161125)].groupby(\"visitId\")\n",
    "bf_device_count=black_friday_group[\"deviceCategory\"].head().value_counts()\n",
    "bf_total_device=black_friday_group[\"deviceCategory\"].head().count()\n",
    "bf_percentage=[]\n",
    "for device in bf_device_count:\n",
    "    result=round(device/bf_total_device*100,2)\n",
    "    bf_percentage.append(result)\n",
    "bf_devices=pd.DataFrame({\"Device_Name\":bf_device_count.keys(), \"Device_Count\":bf_device_count.values, \"Device_Percentage\": bf_percentage}) \n",
    "bf_devices   "
   ]
  },
  {
   "cell_type": "code",
   "execution_count": 22,
   "metadata": {},
   "outputs": [],
   "source": [
    "bf_devices.to_csv(\"templates/static/data/BlackFriday_devices.csv\", index=False)\n",
    "#bf_devices.to_json(\"data/BlackFriday_devices.json\", orient=\"records\")"
   ]
  },
  {
   "cell_type": "code",
   "execution_count": 36,
   "metadata": {},
   "outputs": [
    {
     "output_type": "execute_result",
     "data": {
      "text/plain": [
       "   visitNumber     visitId  visitStartTime       date        fullVisitorId  \\\n",
       "0            1  1478008845      1478008845 2016-11-01  9352881518669559847   \n",
       "1            1  1478002133      1478002133 2016-11-01  4906813510055416703   \n",
       "2            1  1477995977      1477995977 2016-11-01  4091646801425702074   \n",
       "3            1  1478034201      1478034201 2016-11-01  5401793363522001290   \n",
       "4            1  1478055650      1478055650 2016-11-01  4440833520759626888   \n",
       "\n",
       "  channelGrouping  socialEngagementType  visits  hits  pageviews  ...  \\\n",
       "0  Organic Search  Not Socially Engaged       1     1        1.0  ...   \n",
       "1  Organic Search  Not Socially Engaged       1     1        1.0  ...   \n",
       "2  Organic Search  Not Socially Engaged       1     1        1.0  ...   \n",
       "3          Direct  Not Socially Engaged       1     1        1.0  ...   \n",
       "4  Organic Search  Not Socially Engaged       1     1        1.0  ...   \n",
       "\n",
       "      browser  operatingSystem  isMobile deviceCategory continent  \\\n",
       "0      Chrome          Android      True         mobile    Europe   \n",
       "1      Chrome          Windows     False        desktop      Asia   \n",
       "2      Chrome          Windows     False        desktop    Europe   \n",
       "3  Opera Mini          Android      True         mobile    Africa   \n",
       "4      Chrome            Linux     False        desktop  Americas   \n",
       "\n",
       "       subContinent        country                         region  \\\n",
       "0    Western Europe        Germany                        Hamburg   \n",
       "1      Eastern Asia         Taiwan                    Taipei City   \n",
       "2   Southern Europe          Spain  not available in demo dataset   \n",
       "3    Western Africa          Niger  not available in demo dataset   \n",
       "4  Northern America  United States  not available in demo dataset   \n",
       "\n",
       "                            city  networkDomain  \n",
       "0                        Hamburg      (not set)  \n",
       "1                      (not set)      hinet.net  \n",
       "2  not available in demo dataset  comunitel.net  \n",
       "3  not available in demo dataset      (not set)  \n",
       "4  not available in demo dataset       utah.edu  \n",
       "\n",
       "[5 rows x 30 columns]"
      ],
      "text/html": "<div>\n<style scoped>\n    .dataframe tbody tr th:only-of-type {\n        vertical-align: middle;\n    }\n\n    .dataframe tbody tr th {\n        vertical-align: top;\n    }\n\n    .dataframe thead th {\n        text-align: right;\n    }\n</style>\n<table border=\"1\" class=\"dataframe\">\n  <thead>\n    <tr style=\"text-align: right;\">\n      <th></th>\n      <th>visitNumber</th>\n      <th>visitId</th>\n      <th>visitStartTime</th>\n      <th>date</th>\n      <th>fullVisitorId</th>\n      <th>channelGrouping</th>\n      <th>socialEngagementType</th>\n      <th>visits</th>\n      <th>hits</th>\n      <th>pageviews</th>\n      <th>...</th>\n      <th>browser</th>\n      <th>operatingSystem</th>\n      <th>isMobile</th>\n      <th>deviceCategory</th>\n      <th>continent</th>\n      <th>subContinent</th>\n      <th>country</th>\n      <th>region</th>\n      <th>city</th>\n      <th>networkDomain</th>\n    </tr>\n  </thead>\n  <tbody>\n    <tr>\n      <th>0</th>\n      <td>1</td>\n      <td>1478008845</td>\n      <td>1478008845</td>\n      <td>2016-11-01</td>\n      <td>9352881518669559847</td>\n      <td>Organic Search</td>\n      <td>Not Socially Engaged</td>\n      <td>1</td>\n      <td>1</td>\n      <td>1.0</td>\n      <td>...</td>\n      <td>Chrome</td>\n      <td>Android</td>\n      <td>True</td>\n      <td>mobile</td>\n      <td>Europe</td>\n      <td>Western Europe</td>\n      <td>Germany</td>\n      <td>Hamburg</td>\n      <td>Hamburg</td>\n      <td>(not set)</td>\n    </tr>\n    <tr>\n      <th>1</th>\n      <td>1</td>\n      <td>1478002133</td>\n      <td>1478002133</td>\n      <td>2016-11-01</td>\n      <td>4906813510055416703</td>\n      <td>Organic Search</td>\n      <td>Not Socially Engaged</td>\n      <td>1</td>\n      <td>1</td>\n      <td>1.0</td>\n      <td>...</td>\n      <td>Chrome</td>\n      <td>Windows</td>\n      <td>False</td>\n      <td>desktop</td>\n      <td>Asia</td>\n      <td>Eastern Asia</td>\n      <td>Taiwan</td>\n      <td>Taipei City</td>\n      <td>(not set)</td>\n      <td>hinet.net</td>\n    </tr>\n    <tr>\n      <th>2</th>\n      <td>1</td>\n      <td>1477995977</td>\n      <td>1477995977</td>\n      <td>2016-11-01</td>\n      <td>4091646801425702074</td>\n      <td>Organic Search</td>\n      <td>Not Socially Engaged</td>\n      <td>1</td>\n      <td>1</td>\n      <td>1.0</td>\n      <td>...</td>\n      <td>Chrome</td>\n      <td>Windows</td>\n      <td>False</td>\n      <td>desktop</td>\n      <td>Europe</td>\n      <td>Southern Europe</td>\n      <td>Spain</td>\n      <td>not available in demo dataset</td>\n      <td>not available in demo dataset</td>\n      <td>comunitel.net</td>\n    </tr>\n    <tr>\n      <th>3</th>\n      <td>1</td>\n      <td>1478034201</td>\n      <td>1478034201</td>\n      <td>2016-11-01</td>\n      <td>5401793363522001290</td>\n      <td>Direct</td>\n      <td>Not Socially Engaged</td>\n      <td>1</td>\n      <td>1</td>\n      <td>1.0</td>\n      <td>...</td>\n      <td>Opera Mini</td>\n      <td>Android</td>\n      <td>True</td>\n      <td>mobile</td>\n      <td>Africa</td>\n      <td>Western Africa</td>\n      <td>Niger</td>\n      <td>not available in demo dataset</td>\n      <td>not available in demo dataset</td>\n      <td>(not set)</td>\n    </tr>\n    <tr>\n      <th>4</th>\n      <td>1</td>\n      <td>1478055650</td>\n      <td>1478055650</td>\n      <td>2016-11-01</td>\n      <td>4440833520759626888</td>\n      <td>Organic Search</td>\n      <td>Not Socially Engaged</td>\n      <td>1</td>\n      <td>1</td>\n      <td>1.0</td>\n      <td>...</td>\n      <td>Chrome</td>\n      <td>Linux</td>\n      <td>False</td>\n      <td>desktop</td>\n      <td>Americas</td>\n      <td>Northern America</td>\n      <td>United States</td>\n      <td>not available in demo dataset</td>\n      <td>not available in demo dataset</td>\n      <td>utah.edu</td>\n    </tr>\n  </tbody>\n</table>\n<p>5 rows × 30 columns</p>\n</div>"
     },
     "metadata": {},
     "execution_count": 36
    }
   ],
   "source": [
    "main_data[\"date\"]=pd.to_datetime(main_data[\"date\"].astype(str), format=\"%Y%m%d\")\n",
    "main_data.head()"
   ]
  },
  {
   "cell_type": "code",
   "execution_count": 68,
   "metadata": {},
   "outputs": [
    {
     "output_type": "execute_result",
     "data": {
      "text/plain": [
       "   Visit_Date  Visit_Count\n",
       "14 2016-11-01         3728\n",
       "10 2016-11-02         3959\n",
       "9  2016-11-03         3997\n",
       "20 2016-11-04         3583\n",
       "28 2016-11-05         3035\n",
       "23 2016-11-06         3224\n",
       "13 2016-11-07         3812\n",
       "11 2016-11-08         3869\n",
       "16 2016-11-09         3718\n",
       "8  2016-11-10         4020\n",
       "21 2016-11-11         3562\n",
       "27 2016-11-12         3093\n",
       "26 2016-11-13         3115\n",
       "2  2016-11-14         4415\n",
       "1  2016-11-15         4622\n",
       "4  2016-11-16         4277\n",
       "7  2016-11-17         4027\n",
       "19 2016-11-18         3604\n",
       "29 2016-11-19         2943\n",
       "24 2016-11-20         3198\n",
       "6  2016-11-21         4089\n",
       "12 2016-11-22         3850\n",
       "17 2016-11-23         3715\n",
       "15 2016-11-24         3725\n",
       "18 2016-11-25         3701\n",
       "25 2016-11-26         3174\n",
       "22 2016-11-27         3313\n",
       "0  2016-11-28         4721\n",
       "5  2016-11-29         4252\n",
       "3  2016-11-30         4354"
      ],
      "text/html": "<div>\n<style scoped>\n    .dataframe tbody tr th:only-of-type {\n        vertical-align: middle;\n    }\n\n    .dataframe tbody tr th {\n        vertical-align: top;\n    }\n\n    .dataframe thead th {\n        text-align: right;\n    }\n</style>\n<table border=\"1\" class=\"dataframe\">\n  <thead>\n    <tr style=\"text-align: right;\">\n      <th></th>\n      <th>Visit_Date</th>\n      <th>Visit_Count</th>\n    </tr>\n  </thead>\n  <tbody>\n    <tr>\n      <th>14</th>\n      <td>2016-11-01</td>\n      <td>3728</td>\n    </tr>\n    <tr>\n      <th>10</th>\n      <td>2016-11-02</td>\n      <td>3959</td>\n    </tr>\n    <tr>\n      <th>9</th>\n      <td>2016-11-03</td>\n      <td>3997</td>\n    </tr>\n    <tr>\n      <th>20</th>\n      <td>2016-11-04</td>\n      <td>3583</td>\n    </tr>\n    <tr>\n      <th>28</th>\n      <td>2016-11-05</td>\n      <td>3035</td>\n    </tr>\n    <tr>\n      <th>23</th>\n      <td>2016-11-06</td>\n      <td>3224</td>\n    </tr>\n    <tr>\n      <th>13</th>\n      <td>2016-11-07</td>\n      <td>3812</td>\n    </tr>\n    <tr>\n      <th>11</th>\n      <td>2016-11-08</td>\n      <td>3869</td>\n    </tr>\n    <tr>\n      <th>16</th>\n      <td>2016-11-09</td>\n      <td>3718</td>\n    </tr>\n    <tr>\n      <th>8</th>\n      <td>2016-11-10</td>\n      <td>4020</td>\n    </tr>\n    <tr>\n      <th>21</th>\n      <td>2016-11-11</td>\n      <td>3562</td>\n    </tr>\n    <tr>\n      <th>27</th>\n      <td>2016-11-12</td>\n      <td>3093</td>\n    </tr>\n    <tr>\n      <th>26</th>\n      <td>2016-11-13</td>\n      <td>3115</td>\n    </tr>\n    <tr>\n      <th>2</th>\n      <td>2016-11-14</td>\n      <td>4415</td>\n    </tr>\n    <tr>\n      <th>1</th>\n      <td>2016-11-15</td>\n      <td>4622</td>\n    </tr>\n    <tr>\n      <th>4</th>\n      <td>2016-11-16</td>\n      <td>4277</td>\n    </tr>\n    <tr>\n      <th>7</th>\n      <td>2016-11-17</td>\n      <td>4027</td>\n    </tr>\n    <tr>\n      <th>19</th>\n      <td>2016-11-18</td>\n      <td>3604</td>\n    </tr>\n    <tr>\n      <th>29</th>\n      <td>2016-11-19</td>\n      <td>2943</td>\n    </tr>\n    <tr>\n      <th>24</th>\n      <td>2016-11-20</td>\n      <td>3198</td>\n    </tr>\n    <tr>\n      <th>6</th>\n      <td>2016-11-21</td>\n      <td>4089</td>\n    </tr>\n    <tr>\n      <th>12</th>\n      <td>2016-11-22</td>\n      <td>3850</td>\n    </tr>\n    <tr>\n      <th>17</th>\n      <td>2016-11-23</td>\n      <td>3715</td>\n    </tr>\n    <tr>\n      <th>15</th>\n      <td>2016-11-24</td>\n      <td>3725</td>\n    </tr>\n    <tr>\n      <th>18</th>\n      <td>2016-11-25</td>\n      <td>3701</td>\n    </tr>\n    <tr>\n      <th>25</th>\n      <td>2016-11-26</td>\n      <td>3174</td>\n    </tr>\n    <tr>\n      <th>22</th>\n      <td>2016-11-27</td>\n      <td>3313</td>\n    </tr>\n    <tr>\n      <th>0</th>\n      <td>2016-11-28</td>\n      <td>4721</td>\n    </tr>\n    <tr>\n      <th>5</th>\n      <td>2016-11-29</td>\n      <td>4252</td>\n    </tr>\n    <tr>\n      <th>3</th>\n      <td>2016-11-30</td>\n      <td>4354</td>\n    </tr>\n  </tbody>\n</table>\n</div>"
     },
     "metadata": {},
     "execution_count": 68
    }
   ],
   "source": [
    "unique_visits=main_data.groupby(\"fullVisitorId\")\n",
    "unique_daily_visit=unique_visits[\"date\"].head().value_counts()\n",
    "unique_daily_visit_df=pd.DataFrame({\"Visit_Date\":unique_daily_visit.keys(), \"Visit_Count\":unique_daily_visit.values}) \n",
    "unique_daily_visit_df=unique_daily_visit_df.sort_values(by=\"Visit_Date\")\n",
    "unique_daily_visit_df"
   ]
  },
  {
   "cell_type": "code",
   "execution_count": 70,
   "metadata": {},
   "outputs": [],
   "source": [
    "unique_daily_visit_df.to_csv(\"templates/static/data/Nov_Month_Visits.csv\", index=False)"
   ]
  },
  {
   "cell_type": "code",
   "execution_count": null,
   "metadata": {},
   "outputs": [],
   "source": []
  }
 ]
}