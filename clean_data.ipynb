{
 "metadata": {
  "language_info": {
   "codemirror_mode": {
    "name": "ipython",
    "version": 3
   },
   "file_extension": ".py",
   "mimetype": "text/x-python",
   "name": "python",
   "nbconvert_exporter": "python",
   "pygments_lexer": "ipython3",
   "version": "3.8.5"
  },
  "orig_nbformat": 2,
  "kernelspec": {
   "name": "python3",
   "display_name": "Python 3.8.5 64-bit ('base': conda)",
   "metadata": {
    "interpreter": {
     "hash": "33888a5d72fd546c510608f5704d454dda4fecfe28f012ab1603f1178be745ca"
    }
   }
  }
 },
 "nbformat": 4,
 "nbformat_minor": 2,
 "cells": [
  {
   "cell_type": "code",
   "execution_count": 30,
   "metadata": {},
   "outputs": [],
   "source": [
    "import pandas as pd\n",
    "import numpy as np\n",
    "import sqlalchemy\n",
    "from sqlalchemy.ext.automap import automap_base\n",
    "from sqlalchemy.orm import Session\n",
    "from sqlalchemy import create_engine, inspect, func\n",
    "import os, sys\n",
    "import datetime as dt"
   ]
  },
  {
   "cell_type": "code",
   "execution_count": 32,
   "metadata": {},
   "outputs": [
    {
     "output_type": "execute_result",
     "data": {
      "text/plain": [
       "   visitNumber     visitId  visitStartTime      date        fullVisitorId  \\\n",
       "0            1  1478008845      1478008845  20161101  9352881518669559847   \n",
       "1            1  1478002133      1478002133  20161101  4906813510055416703   \n",
       "2            1  1477995977      1477995977  20161101  4091646801425702074   \n",
       "3            1  1478034201      1478034201  20161101  5401793363522001290   \n",
       "4            1  1478055650      1478055650  20161101  4440833520759626888   \n",
       "\n",
       "  channelGrouping  socialEngagementType  visits  hits  pageviews  ...  \\\n",
       "0  Organic Search  Not Socially Engaged       1     1        1.0  ...   \n",
       "1  Organic Search  Not Socially Engaged       1     1        1.0  ...   \n",
       "2  Organic Search  Not Socially Engaged       1     1        1.0  ...   \n",
       "3          Direct  Not Socially Engaged       1     1        1.0  ...   \n",
       "4  Organic Search  Not Socially Engaged       1     1        1.0  ...   \n",
       "\n",
       "      browser  operatingSystem  isMobile deviceCategory continent  \\\n",
       "0      Chrome          Android      True         mobile    Europe   \n",
       "1      Chrome          Windows     False        desktop      Asia   \n",
       "2      Chrome          Windows     False        desktop    Europe   \n",
       "3  Opera Mini          Android      True         mobile    Africa   \n",
       "4      Chrome            Linux     False        desktop  Americas   \n",
       "\n",
       "       subContinent        country                         region  \\\n",
       "0    Western Europe        Germany                        Hamburg   \n",
       "1      Eastern Asia         Taiwan                    Taipei City   \n",
       "2   Southern Europe          Spain  not available in demo dataset   \n",
       "3    Western Africa          Niger  not available in demo dataset   \n",
       "4  Northern America  United States  not available in demo dataset   \n",
       "\n",
       "                            city  networkDomain  \n",
       "0                        Hamburg      (not set)  \n",
       "1                      (not set)      hinet.net  \n",
       "2  not available in demo dataset  comunitel.net  \n",
       "3  not available in demo dataset      (not set)  \n",
       "4  not available in demo dataset       utah.edu  \n",
       "\n",
       "[5 rows x 30 columns]"
      ],
      "text/html": "<div>\n<style scoped>\n    .dataframe tbody tr th:only-of-type {\n        vertical-align: middle;\n    }\n\n    .dataframe tbody tr th {\n        vertical-align: top;\n    }\n\n    .dataframe thead th {\n        text-align: right;\n    }\n</style>\n<table border=\"1\" class=\"dataframe\">\n  <thead>\n    <tr style=\"text-align: right;\">\n      <th></th>\n      <th>visitNumber</th>\n      <th>visitId</th>\n      <th>visitStartTime</th>\n      <th>date</th>\n      <th>fullVisitorId</th>\n      <th>channelGrouping</th>\n      <th>socialEngagementType</th>\n      <th>visits</th>\n      <th>hits</th>\n      <th>pageviews</th>\n      <th>...</th>\n      <th>browser</th>\n      <th>operatingSystem</th>\n      <th>isMobile</th>\n      <th>deviceCategory</th>\n      <th>continent</th>\n      <th>subContinent</th>\n      <th>country</th>\n      <th>region</th>\n      <th>city</th>\n      <th>networkDomain</th>\n    </tr>\n  </thead>\n  <tbody>\n    <tr>\n      <th>0</th>\n      <td>1</td>\n      <td>1478008845</td>\n      <td>1478008845</td>\n      <td>20161101</td>\n      <td>9352881518669559847</td>\n      <td>Organic Search</td>\n      <td>Not Socially Engaged</td>\n      <td>1</td>\n      <td>1</td>\n      <td>1.0</td>\n      <td>...</td>\n      <td>Chrome</td>\n      <td>Android</td>\n      <td>True</td>\n      <td>mobile</td>\n      <td>Europe</td>\n      <td>Western Europe</td>\n      <td>Germany</td>\n      <td>Hamburg</td>\n      <td>Hamburg</td>\n      <td>(not set)</td>\n    </tr>\n    <tr>\n      <th>1</th>\n      <td>1</td>\n      <td>1478002133</td>\n      <td>1478002133</td>\n      <td>20161101</td>\n      <td>4906813510055416703</td>\n      <td>Organic Search</td>\n      <td>Not Socially Engaged</td>\n      <td>1</td>\n      <td>1</td>\n      <td>1.0</td>\n      <td>...</td>\n      <td>Chrome</td>\n      <td>Windows</td>\n      <td>False</td>\n      <td>desktop</td>\n      <td>Asia</td>\n      <td>Eastern Asia</td>\n      <td>Taiwan</td>\n      <td>Taipei City</td>\n      <td>(not set)</td>\n      <td>hinet.net</td>\n    </tr>\n    <tr>\n      <th>2</th>\n      <td>1</td>\n      <td>1477995977</td>\n      <td>1477995977</td>\n      <td>20161101</td>\n      <td>4091646801425702074</td>\n      <td>Organic Search</td>\n      <td>Not Socially Engaged</td>\n      <td>1</td>\n      <td>1</td>\n      <td>1.0</td>\n      <td>...</td>\n      <td>Chrome</td>\n      <td>Windows</td>\n      <td>False</td>\n      <td>desktop</td>\n      <td>Europe</td>\n      <td>Southern Europe</td>\n      <td>Spain</td>\n      <td>not available in demo dataset</td>\n      <td>not available in demo dataset</td>\n      <td>comunitel.net</td>\n    </tr>\n    <tr>\n      <th>3</th>\n      <td>1</td>\n      <td>1478034201</td>\n      <td>1478034201</td>\n      <td>20161101</td>\n      <td>5401793363522001290</td>\n      <td>Direct</td>\n      <td>Not Socially Engaged</td>\n      <td>1</td>\n      <td>1</td>\n      <td>1.0</td>\n      <td>...</td>\n      <td>Opera Mini</td>\n      <td>Android</td>\n      <td>True</td>\n      <td>mobile</td>\n      <td>Africa</td>\n      <td>Western Africa</td>\n      <td>Niger</td>\n      <td>not available in demo dataset</td>\n      <td>not available in demo dataset</td>\n      <td>(not set)</td>\n    </tr>\n    <tr>\n      <th>4</th>\n      <td>1</td>\n      <td>1478055650</td>\n      <td>1478055650</td>\n      <td>20161101</td>\n      <td>4440833520759626888</td>\n      <td>Organic Search</td>\n      <td>Not Socially Engaged</td>\n      <td>1</td>\n      <td>1</td>\n      <td>1.0</td>\n      <td>...</td>\n      <td>Chrome</td>\n      <td>Linux</td>\n      <td>False</td>\n      <td>desktop</td>\n      <td>Americas</td>\n      <td>Northern America</td>\n      <td>United States</td>\n      <td>not available in demo dataset</td>\n      <td>not available in demo dataset</td>\n      <td>utah.edu</td>\n    </tr>\n  </tbody>\n</table>\n<p>5 rows × 30 columns</p>\n</div>"
     },
     "metadata": {},
     "execution_count": 32
    }
   ],
   "source": [
    "main_data = pd.read_csv(\"C:\\Boot Camp\\Homework\\project3\\CSV export\\Main_table.csv\")\n",
    "main_data.head()"
   ]
  },
  {
   "cell_type": "code",
   "execution_count": 33,
   "metadata": {},
   "outputs": [
    {
     "output_type": "execute_result",
     "data": {
      "text/plain": [
       "      visitId        fullVisitorId      date channelGrouping  hits  \\\n",
       "0  1478008845  9352881518669559847  20161101  Organic Search     1   \n",
       "1  1478002133  4906813510055416703  20161101  Organic Search     1   \n",
       "2  1477995977  4091646801425702074  20161101  Organic Search     1   \n",
       "3  1478034201  5401793363522001290  20161101          Direct     1   \n",
       "4  1478055650  4440833520759626888  20161101  Organic Search     1   \n",
       "\n",
       "   timeOnSite     browser operatingSystem deviceCategory continent  \\\n",
       "0         NaN      Chrome         Android         mobile    Europe   \n",
       "1         NaN      Chrome         Windows        desktop      Asia   \n",
       "2         NaN      Chrome         Windows        desktop    Europe   \n",
       "3         NaN  Opera Mini         Android         mobile    Africa   \n",
       "4         NaN      Chrome           Linux        desktop  Americas   \n",
       "\n",
       "         country                         region  \\\n",
       "0        Germany                        Hamburg   \n",
       "1         Taiwan                    Taipei City   \n",
       "2          Spain  not available in demo dataset   \n",
       "3          Niger  not available in demo dataset   \n",
       "4  United States  not available in demo dataset   \n",
       "\n",
       "                            city  networkDomain  \n",
       "0                        Hamburg      (not set)  \n",
       "1                      (not set)      hinet.net  \n",
       "2  not available in demo dataset  comunitel.net  \n",
       "3  not available in demo dataset      (not set)  \n",
       "4  not available in demo dataset       utah.edu  "
      ],
      "text/html": "<div>\n<style scoped>\n    .dataframe tbody tr th:only-of-type {\n        vertical-align: middle;\n    }\n\n    .dataframe tbody tr th {\n        vertical-align: top;\n    }\n\n    .dataframe thead th {\n        text-align: right;\n    }\n</style>\n<table border=\"1\" class=\"dataframe\">\n  <thead>\n    <tr style=\"text-align: right;\">\n      <th></th>\n      <th>visitId</th>\n      <th>fullVisitorId</th>\n      <th>date</th>\n      <th>channelGrouping</th>\n      <th>hits</th>\n      <th>timeOnSite</th>\n      <th>browser</th>\n      <th>operatingSystem</th>\n      <th>deviceCategory</th>\n      <th>continent</th>\n      <th>country</th>\n      <th>region</th>\n      <th>city</th>\n      <th>networkDomain</th>\n    </tr>\n  </thead>\n  <tbody>\n    <tr>\n      <th>0</th>\n      <td>1478008845</td>\n      <td>9352881518669559847</td>\n      <td>20161101</td>\n      <td>Organic Search</td>\n      <td>1</td>\n      <td>NaN</td>\n      <td>Chrome</td>\n      <td>Android</td>\n      <td>mobile</td>\n      <td>Europe</td>\n      <td>Germany</td>\n      <td>Hamburg</td>\n      <td>Hamburg</td>\n      <td>(not set)</td>\n    </tr>\n    <tr>\n      <th>1</th>\n      <td>1478002133</td>\n      <td>4906813510055416703</td>\n      <td>20161101</td>\n      <td>Organic Search</td>\n      <td>1</td>\n      <td>NaN</td>\n      <td>Chrome</td>\n      <td>Windows</td>\n      <td>desktop</td>\n      <td>Asia</td>\n      <td>Taiwan</td>\n      <td>Taipei City</td>\n      <td>(not set)</td>\n      <td>hinet.net</td>\n    </tr>\n    <tr>\n      <th>2</th>\n      <td>1477995977</td>\n      <td>4091646801425702074</td>\n      <td>20161101</td>\n      <td>Organic Search</td>\n      <td>1</td>\n      <td>NaN</td>\n      <td>Chrome</td>\n      <td>Windows</td>\n      <td>desktop</td>\n      <td>Europe</td>\n      <td>Spain</td>\n      <td>not available in demo dataset</td>\n      <td>not available in demo dataset</td>\n      <td>comunitel.net</td>\n    </tr>\n    <tr>\n      <th>3</th>\n      <td>1478034201</td>\n      <td>5401793363522001290</td>\n      <td>20161101</td>\n      <td>Direct</td>\n      <td>1</td>\n      <td>NaN</td>\n      <td>Opera Mini</td>\n      <td>Android</td>\n      <td>mobile</td>\n      <td>Africa</td>\n      <td>Niger</td>\n      <td>not available in demo dataset</td>\n      <td>not available in demo dataset</td>\n      <td>(not set)</td>\n    </tr>\n    <tr>\n      <th>4</th>\n      <td>1478055650</td>\n      <td>4440833520759626888</td>\n      <td>20161101</td>\n      <td>Organic Search</td>\n      <td>1</td>\n      <td>NaN</td>\n      <td>Chrome</td>\n      <td>Linux</td>\n      <td>desktop</td>\n      <td>Americas</td>\n      <td>United States</td>\n      <td>not available in demo dataset</td>\n      <td>not available in demo dataset</td>\n      <td>utah.edu</td>\n    </tr>\n  </tbody>\n</table>\n</div>"
     },
     "metadata": {},
     "execution_count": 33
    }
   ],
   "source": [
    "clean_main_data=main_data[[\"visitId\", \"fullVisitorId\", \"date\", \"channelGrouping\", \"hits\", \"timeOnSite\", \"browser\", \"operatingSystem\", \"deviceCategory\", \"continent\", \"country\", \"region\", \"city\", \"networkDomain\"]].copy()\n",
    "clean_main_data.head()"
   ]
  },
  {
   "cell_type": "code",
   "execution_count": 39,
   "metadata": {},
   "outputs": [],
   "source": [
    "clean_main_data.to_csv(\"clean_main_data.csv\", index=False)"
   ]
  },
  {
   "cell_type": "code",
   "execution_count": 41,
   "metadata": {},
   "outputs": [
    {
     "output_type": "execute_result",
     "data": {
      "text/plain": [
       "visitId            113971\n",
       "fullVisitorId      113971\n",
       "date               113971\n",
       "channelGrouping    113971\n",
       "hits               113971\n",
       "timeOnSite          56353\n",
       "browser            113971\n",
       "operatingSystem    113971\n",
       "deviceCategory     113971\n",
       "continent          113971\n",
       "country            113971\n",
       "region             113971\n",
       "city               113971\n",
       "networkDomain      113971\n",
       "dtype: int64"
      ]
     },
     "metadata": {},
     "execution_count": 41
    }
   ],
   "source": [
    "clean_main_data.count()"
   ]
  },
  {
   "cell_type": "code",
   "execution_count": 94,
   "metadata": {},
   "outputs": [
    {
     "output_type": "execute_result",
     "data": {
      "text/plain": [
       "list"
      ]
     },
     "metadata": {},
     "execution_count": 94
    }
   ],
   "source": [
    "grouped_data=main_data.groupby(\"visitId\")\n",
    "Nov_device_count=grouped_data[\"deviceCategory\"].head().value_counts()\n",
    "total_counts=main_data[\"visitId\"].count()\n",
    "Nov_percentage=[]\n",
    "for a in Nov_device_count:\n",
    "    result=round(a/total_counts*100,2)\n",
    "    Nov_percentage.append(result)\n",
    "#device_count.values\n",
    "Nov_devices=pd.DataFrame({\"Device Name\":device_count.keys()})\n",
    "Nov_devices.head()\n",
    "Nov_percentage"
   ]
  },
  {
   "cell_type": "code",
   "execution_count": null,
   "metadata": {},
   "outputs": [],
   "source": []
  }
 ]
}