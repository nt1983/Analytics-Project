{
 "metadata": {
  "language_info": {
   "codemirror_mode": {
    "name": "ipython",
    "version": 3
   },
   "file_extension": ".py",
   "mimetype": "text/x-python",
   "name": "python",
   "nbconvert_exporter": "python",
   "pygments_lexer": "ipython3",
   "version": "3.8.5"
  },
  "orig_nbformat": 2,
  "kernelspec": {
   "name": "python385jvsc74a57bd06c3ed69fe20b28265c7ee53dd2e8250a968f719a869f00b4efc700f5f6bcd63a",
   "display_name": "Python 3.8.5 64-bit ('base': conda)"
  }
 },
 "nbformat": 4,
 "nbformat_minor": 2,
 "cells": [
  {
   "cell_type": "code",
   "execution_count": 4,
   "metadata": {},
   "outputs": [],
   "source": [
    "import pandas as pd"
   ]
  },
  {
   "cell_type": "code",
   "execution_count": 5,
   "metadata": {},
   "outputs": [],
   "source": [
    "file = 'New_data_csv/Main_Data_CSV/Main_table.csv'"
   ]
  },
  {
   "cell_type": "code",
   "execution_count": 6,
   "metadata": {},
   "outputs": [
    {
     "output_type": "execute_result",
     "data": {
      "text/plain": [
       "   visitNumber     visitId  visitStartTime      date        fullVisitorId  \\\n",
       "0            1  1478008845      1478008845  20161101  9352881518669559847   \n",
       "1            1  1478002133      1478002133  20161101  4906813510055416703   \n",
       "2            1  1477995977      1477995977  20161101  4091646801425702074   \n",
       "3            1  1478034201      1478034201  20161101  5401793363522001290   \n",
       "4            1  1478055650      1478055650  20161101  4440833520759626888   \n",
       "\n",
       "  channelGrouping  socialEngagementType  visits  hits  pageviews  ...  \\\n",
       "0  Organic Search  Not Socially Engaged       1     1        1.0  ...   \n",
       "1  Organic Search  Not Socially Engaged       1     1        1.0  ...   \n",
       "2  Organic Search  Not Socially Engaged       1     1        1.0  ...   \n",
       "3          Direct  Not Socially Engaged       1     1        1.0  ...   \n",
       "4  Organic Search  Not Socially Engaged       1     1        1.0  ...   \n",
       "\n",
       "      browser  operatingSystem  isMobile deviceCategory continent  \\\n",
       "0      Chrome          Android      True         mobile    Europe   \n",
       "1      Chrome          Windows     False        desktop      Asia   \n",
       "2      Chrome          Windows     False        desktop    Europe   \n",
       "3  Opera Mini          Android      True         mobile    Africa   \n",
       "4      Chrome            Linux     False        desktop  Americas   \n",
       "\n",
       "       subContinent        country                         region  \\\n",
       "0    Western Europe        Germany                        Hamburg   \n",
       "1      Eastern Asia         Taiwan                    Taipei City   \n",
       "2   Southern Europe          Spain  not available in demo dataset   \n",
       "3    Western Africa          Niger  not available in demo dataset   \n",
       "4  Northern America  United States  not available in demo dataset   \n",
       "\n",
       "                            city  networkDomain  \n",
       "0                        Hamburg      (not set)  \n",
       "1                      (not set)      hinet.net  \n",
       "2  not available in demo dataset  comunitel.net  \n",
       "3  not available in demo dataset      (not set)  \n",
       "4  not available in demo dataset       utah.edu  \n",
       "\n",
       "[5 rows x 30 columns]"
      ],
      "text/html": "<div>\n<style scoped>\n    .dataframe tbody tr th:only-of-type {\n        vertical-align: middle;\n    }\n\n    .dataframe tbody tr th {\n        vertical-align: top;\n    }\n\n    .dataframe thead th {\n        text-align: right;\n    }\n</style>\n<table border=\"1\" class=\"dataframe\">\n  <thead>\n    <tr style=\"text-align: right;\">\n      <th></th>\n      <th>visitNumber</th>\n      <th>visitId</th>\n      <th>visitStartTime</th>\n      <th>date</th>\n      <th>fullVisitorId</th>\n      <th>channelGrouping</th>\n      <th>socialEngagementType</th>\n      <th>visits</th>\n      <th>hits</th>\n      <th>pageviews</th>\n      <th>...</th>\n      <th>browser</th>\n      <th>operatingSystem</th>\n      <th>isMobile</th>\n      <th>deviceCategory</th>\n      <th>continent</th>\n      <th>subContinent</th>\n      <th>country</th>\n      <th>region</th>\n      <th>city</th>\n      <th>networkDomain</th>\n    </tr>\n  </thead>\n  <tbody>\n    <tr>\n      <th>0</th>\n      <td>1</td>\n      <td>1478008845</td>\n      <td>1478008845</td>\n      <td>20161101</td>\n      <td>9352881518669559847</td>\n      <td>Organic Search</td>\n      <td>Not Socially Engaged</td>\n      <td>1</td>\n      <td>1</td>\n      <td>1.0</td>\n      <td>...</td>\n      <td>Chrome</td>\n      <td>Android</td>\n      <td>True</td>\n      <td>mobile</td>\n      <td>Europe</td>\n      <td>Western Europe</td>\n      <td>Germany</td>\n      <td>Hamburg</td>\n      <td>Hamburg</td>\n      <td>(not set)</td>\n    </tr>\n    <tr>\n      <th>1</th>\n      <td>1</td>\n      <td>1478002133</td>\n      <td>1478002133</td>\n      <td>20161101</td>\n      <td>4906813510055416703</td>\n      <td>Organic Search</td>\n      <td>Not Socially Engaged</td>\n      <td>1</td>\n      <td>1</td>\n      <td>1.0</td>\n      <td>...</td>\n      <td>Chrome</td>\n      <td>Windows</td>\n      <td>False</td>\n      <td>desktop</td>\n      <td>Asia</td>\n      <td>Eastern Asia</td>\n      <td>Taiwan</td>\n      <td>Taipei City</td>\n      <td>(not set)</td>\n      <td>hinet.net</td>\n    </tr>\n    <tr>\n      <th>2</th>\n      <td>1</td>\n      <td>1477995977</td>\n      <td>1477995977</td>\n      <td>20161101</td>\n      <td>4091646801425702074</td>\n      <td>Organic Search</td>\n      <td>Not Socially Engaged</td>\n      <td>1</td>\n      <td>1</td>\n      <td>1.0</td>\n      <td>...</td>\n      <td>Chrome</td>\n      <td>Windows</td>\n      <td>False</td>\n      <td>desktop</td>\n      <td>Europe</td>\n      <td>Southern Europe</td>\n      <td>Spain</td>\n      <td>not available in demo dataset</td>\n      <td>not available in demo dataset</td>\n      <td>comunitel.net</td>\n    </tr>\n    <tr>\n      <th>3</th>\n      <td>1</td>\n      <td>1478034201</td>\n      <td>1478034201</td>\n      <td>20161101</td>\n      <td>5401793363522001290</td>\n      <td>Direct</td>\n      <td>Not Socially Engaged</td>\n      <td>1</td>\n      <td>1</td>\n      <td>1.0</td>\n      <td>...</td>\n      <td>Opera Mini</td>\n      <td>Android</td>\n      <td>True</td>\n      <td>mobile</td>\n      <td>Africa</td>\n      <td>Western Africa</td>\n      <td>Niger</td>\n      <td>not available in demo dataset</td>\n      <td>not available in demo dataset</td>\n      <td>(not set)</td>\n    </tr>\n    <tr>\n      <th>4</th>\n      <td>1</td>\n      <td>1478055650</td>\n      <td>1478055650</td>\n      <td>20161101</td>\n      <td>4440833520759626888</td>\n      <td>Organic Search</td>\n      <td>Not Socially Engaged</td>\n      <td>1</td>\n      <td>1</td>\n      <td>1.0</td>\n      <td>...</td>\n      <td>Chrome</td>\n      <td>Linux</td>\n      <td>False</td>\n      <td>desktop</td>\n      <td>Americas</td>\n      <td>Northern America</td>\n      <td>United States</td>\n      <td>not available in demo dataset</td>\n      <td>not available in demo dataset</td>\n      <td>utah.edu</td>\n    </tr>\n  </tbody>\n</table>\n<p>5 rows × 30 columns</p>\n</div>"
     },
     "metadata": {},
     "execution_count": 6
    }
   ],
   "source": [
    "df = pd.read_csv(file, encoding=\"ISO-8859-1\")\n",
    "df.head()"
   ]
  },
  {
   "cell_type": "code",
   "execution_count": 7,
   "metadata": {},
   "outputs": [
    {
     "output_type": "execute_result",
     "data": {
      "text/plain": [
       "visitNumber             113971\n",
       "visitId                 113971\n",
       "visitStartTime          113971\n",
       "date                    113971\n",
       "fullVisitorId           113971\n",
       "channelGrouping         113971\n",
       "socialEngagementType    113971\n",
       "visits                  113971\n",
       "hits                    113971\n",
       "pageviews               113961\n",
       "timeOnSite               56353\n",
       "bounces                  57519\n",
       "newVisits                94779\n",
       "campaign                113971\n",
       "source                  113971\n",
       "medium                  113971\n",
       "page                      1933\n",
       "slot                      1933\n",
       "adNetworkType             1933\n",
       "isVideoAd                 1933\n",
       "browser                 113971\n",
       "operatingSystem         113971\n",
       "isMobile                113971\n",
       "deviceCategory          113971\n",
       "continent               113971\n",
       "subContinent            113971\n",
       "country                 113971\n",
       "region                  113971\n",
       "city                    113971\n",
       "networkDomain           113971\n",
       "dtype: int64"
      ]
     },
     "metadata": {},
     "execution_count": 7
    }
   ],
   "source": [
    "df.count()"
   ]
  },
  {
   "cell_type": "code",
   "execution_count": 8,
   "metadata": {},
   "outputs": [
    {
     "output_type": "execute_result",
     "data": {
      "text/plain": [
       "               Visitor     Browser\n",
       "0  9352881518669559847      Chrome\n",
       "1  4906813510055416703      Chrome\n",
       "2  4091646801425702074      Chrome\n",
       "3  5401793363522001290  Opera Mini\n",
       "4  4440833520759626888      Chrome"
      ],
      "text/html": "<div>\n<style scoped>\n    .dataframe tbody tr th:only-of-type {\n        vertical-align: middle;\n    }\n\n    .dataframe tbody tr th {\n        vertical-align: top;\n    }\n\n    .dataframe thead th {\n        text-align: right;\n    }\n</style>\n<table border=\"1\" class=\"dataframe\">\n  <thead>\n    <tr style=\"text-align: right;\">\n      <th></th>\n      <th>Visitor</th>\n      <th>Browser</th>\n    </tr>\n  </thead>\n  <tbody>\n    <tr>\n      <th>0</th>\n      <td>9352881518669559847</td>\n      <td>Chrome</td>\n    </tr>\n    <tr>\n      <th>1</th>\n      <td>4906813510055416703</td>\n      <td>Chrome</td>\n    </tr>\n    <tr>\n      <th>2</th>\n      <td>4091646801425702074</td>\n      <td>Chrome</td>\n    </tr>\n    <tr>\n      <th>3</th>\n      <td>5401793363522001290</td>\n      <td>Opera Mini</td>\n    </tr>\n    <tr>\n      <th>4</th>\n      <td>4440833520759626888</td>\n      <td>Chrome</td>\n    </tr>\n  </tbody>\n</table>\n</div>"
     },
     "metadata": {},
     "execution_count": 8
    }
   ],
   "source": [
    "browser_df = pd.DataFrame({\"Visitor\": df[\"fullVisitorId\"],\n",
    "                    \"Browser\": df[\"browser\"]})\n",
    "browser_df.head()"
   ]
  },
  {
   "cell_type": "code",
   "execution_count": 10,
   "metadata": {},
   "outputs": [
    {
     "output_type": "execute_result",
     "data": {
      "text/plain": [
       "                          Visitor\n",
       "Browser                          \n",
       "Amazon Silk                    48\n",
       "Android Browser                43\n",
       "Apple-iPhone7C2                 1\n",
       "BlackBerry                     25\n",
       "Chrome                      70033\n",
       "Coc Coc                        58\n",
       "DASH_JR_3G                      1\n",
       "Edge                          924\n",
       "Firefox                      3316\n",
       "Internet Explorer            1881\n",
       "Iron                            2\n",
       "LYF_LS_4002_12                  4\n",
       "MQQBrowser                      1\n",
       "MRCHROME                       24\n",
       "Maxthon                        27\n",
       "Mozilla                         2\n",
       "Mozilla Compatible Agent       32\n",
       "Nichrome                        2\n",
       "Nintendo Browser               13\n",
       "Nokia Browser                   3\n",
       "Opera                         554\n",
       "Opera Mini                    501\n",
       "Safari                      35845\n",
       "Safari (in-app)               276\n",
       "ThumbSniper                     1\n",
       "UC Browser                    160\n",
       "YaBrowser                     194"
      ],
      "text/html": "<div>\n<style scoped>\n    .dataframe tbody tr th:only-of-type {\n        vertical-align: middle;\n    }\n\n    .dataframe tbody tr th {\n        vertical-align: top;\n    }\n\n    .dataframe thead th {\n        text-align: right;\n    }\n</style>\n<table border=\"1\" class=\"dataframe\">\n  <thead>\n    <tr style=\"text-align: right;\">\n      <th></th>\n      <th>Visitor</th>\n    </tr>\n    <tr>\n      <th>Browser</th>\n      <th></th>\n    </tr>\n  </thead>\n  <tbody>\n    <tr>\n      <th>Amazon Silk</th>\n      <td>48</td>\n    </tr>\n    <tr>\n      <th>Android Browser</th>\n      <td>43</td>\n    </tr>\n    <tr>\n      <th>Apple-iPhone7C2</th>\n      <td>1</td>\n    </tr>\n    <tr>\n      <th>BlackBerry</th>\n      <td>25</td>\n    </tr>\n    <tr>\n      <th>Chrome</th>\n      <td>70033</td>\n    </tr>\n    <tr>\n      <th>Coc Coc</th>\n      <td>58</td>\n    </tr>\n    <tr>\n      <th>DASH_JR_3G</th>\n      <td>1</td>\n    </tr>\n    <tr>\n      <th>Edge</th>\n      <td>924</td>\n    </tr>\n    <tr>\n      <th>Firefox</th>\n      <td>3316</td>\n    </tr>\n    <tr>\n      <th>Internet Explorer</th>\n      <td>1881</td>\n    </tr>\n    <tr>\n      <th>Iron</th>\n      <td>2</td>\n    </tr>\n    <tr>\n      <th>LYF_LS_4002_12</th>\n      <td>4</td>\n    </tr>\n    <tr>\n      <th>MQQBrowser</th>\n      <td>1</td>\n    </tr>\n    <tr>\n      <th>MRCHROME</th>\n      <td>24</td>\n    </tr>\n    <tr>\n      <th>Maxthon</th>\n      <td>27</td>\n    </tr>\n    <tr>\n      <th>Mozilla</th>\n      <td>2</td>\n    </tr>\n    <tr>\n      <th>Mozilla Compatible Agent</th>\n      <td>32</td>\n    </tr>\n    <tr>\n      <th>Nichrome</th>\n      <td>2</td>\n    </tr>\n    <tr>\n      <th>Nintendo Browser</th>\n      <td>13</td>\n    </tr>\n    <tr>\n      <th>Nokia Browser</th>\n      <td>3</td>\n    </tr>\n    <tr>\n      <th>Opera</th>\n      <td>554</td>\n    </tr>\n    <tr>\n      <th>Opera Mini</th>\n      <td>501</td>\n    </tr>\n    <tr>\n      <th>Safari</th>\n      <td>35845</td>\n    </tr>\n    <tr>\n      <th>Safari (in-app)</th>\n      <td>276</td>\n    </tr>\n    <tr>\n      <th>ThumbSniper</th>\n      <td>1</td>\n    </tr>\n    <tr>\n      <th>UC Browser</th>\n      <td>160</td>\n    </tr>\n    <tr>\n      <th>YaBrowser</th>\n      <td>194</td>\n    </tr>\n  </tbody>\n</table>\n</div>"
     },
     "metadata": {},
     "execution_count": 10
    }
   ],
   "source": [
    "\n",
    "browser_grouped = browser_df.groupby(\"Browser\").count()\n",
    "browser_grouped"
   ]
  },
  {
   "cell_type": "code",
   "execution_count": 16,
   "metadata": {},
   "outputs": [
    {
     "output_type": "execute_result",
     "data": {
      "text/plain": [
       "                          Visitor\n",
       "Browser                          \n",
       "Chrome                      70033\n",
       "Safari                      35845\n",
       "Firefox                      3316\n",
       "Internet Explorer            1881\n",
       "Edge                          924\n",
       "Opera                         554\n",
       "Opera Mini                    501\n",
       "Safari (in-app)               276\n",
       "YaBrowser                     194\n",
       "UC Browser                    160\n",
       "Coc Coc                        58\n",
       "Amazon Silk                    48\n",
       "Android Browser                43\n",
       "Mozilla Compatible Agent       32\n",
       "Maxthon                        27\n",
       "BlackBerry                     25\n",
       "MRCHROME                       24\n",
       "Nintendo Browser               13\n",
       "LYF_LS_4002_12                  4\n",
       "Nokia Browser                   3\n",
       "Mozilla                         2\n",
       "Nichrome                        2\n",
       "Iron                            2\n",
       "MQQBrowser                      1\n",
       "DASH_JR_3G                      1\n",
       "ThumbSniper                     1\n",
       "Apple-iPhone7C2                 1"
      ],
      "text/html": "<div>\n<style scoped>\n    .dataframe tbody tr th:only-of-type {\n        vertical-align: middle;\n    }\n\n    .dataframe tbody tr th {\n        vertical-align: top;\n    }\n\n    .dataframe thead th {\n        text-align: right;\n    }\n</style>\n<table border=\"1\" class=\"dataframe\">\n  <thead>\n    <tr style=\"text-align: right;\">\n      <th></th>\n      <th>Visitor</th>\n    </tr>\n    <tr>\n      <th>Browser</th>\n      <th></th>\n    </tr>\n  </thead>\n  <tbody>\n    <tr>\n      <th>Chrome</th>\n      <td>70033</td>\n    </tr>\n    <tr>\n      <th>Safari</th>\n      <td>35845</td>\n    </tr>\n    <tr>\n      <th>Firefox</th>\n      <td>3316</td>\n    </tr>\n    <tr>\n      <th>Internet Explorer</th>\n      <td>1881</td>\n    </tr>\n    <tr>\n      <th>Edge</th>\n      <td>924</td>\n    </tr>\n    <tr>\n      <th>Opera</th>\n      <td>554</td>\n    </tr>\n    <tr>\n      <th>Opera Mini</th>\n      <td>501</td>\n    </tr>\n    <tr>\n      <th>Safari (in-app)</th>\n      <td>276</td>\n    </tr>\n    <tr>\n      <th>YaBrowser</th>\n      <td>194</td>\n    </tr>\n    <tr>\n      <th>UC Browser</th>\n      <td>160</td>\n    </tr>\n    <tr>\n      <th>Coc Coc</th>\n      <td>58</td>\n    </tr>\n    <tr>\n      <th>Amazon Silk</th>\n      <td>48</td>\n    </tr>\n    <tr>\n      <th>Android Browser</th>\n      <td>43</td>\n    </tr>\n    <tr>\n      <th>Mozilla Compatible Agent</th>\n      <td>32</td>\n    </tr>\n    <tr>\n      <th>Maxthon</th>\n      <td>27</td>\n    </tr>\n    <tr>\n      <th>BlackBerry</th>\n      <td>25</td>\n    </tr>\n    <tr>\n      <th>MRCHROME</th>\n      <td>24</td>\n    </tr>\n    <tr>\n      <th>Nintendo Browser</th>\n      <td>13</td>\n    </tr>\n    <tr>\n      <th>LYF_LS_4002_12</th>\n      <td>4</td>\n    </tr>\n    <tr>\n      <th>Nokia Browser</th>\n      <td>3</td>\n    </tr>\n    <tr>\n      <th>Mozilla</th>\n      <td>2</td>\n    </tr>\n    <tr>\n      <th>Nichrome</th>\n      <td>2</td>\n    </tr>\n    <tr>\n      <th>Iron</th>\n      <td>2</td>\n    </tr>\n    <tr>\n      <th>MQQBrowser</th>\n      <td>1</td>\n    </tr>\n    <tr>\n      <th>DASH_JR_3G</th>\n      <td>1</td>\n    </tr>\n    <tr>\n      <th>ThumbSniper</th>\n      <td>1</td>\n    </tr>\n    <tr>\n      <th>Apple-iPhone7C2</th>\n      <td>1</td>\n    </tr>\n  </tbody>\n</table>\n</div>"
     },
     "metadata": {},
     "execution_count": 16
    }
   ],
   "source": [
    "sorted_browser = browser_grouped.sort_values(\"Visitor\", ascending=False)\n",
    "sorted_browser"
   ]
  },
  {
   "cell_type": "code",
   "execution_count": 17,
   "metadata": {},
   "outputs": [
    {
     "output_type": "stream",
     "name": "stdout",
     "text": [
      "                    Visitor     Browser\n0       9352881518669559847      Chrome\n1       4906813510055416703      Chrome\n2       4091646801425702074      Chrome\n3       5401793363522001290  Opera Mini\n4       4440833520759626888      Chrome\n...                     ...         ...\n113966  5446906624026779916      Safari\n113967  8712448435819918735      Chrome\n113968  6943002941167522609      Chrome\n113969  6558336072397114861      Chrome\n113970  7263171742001601494      Chrome\n\n[113971 rows x 2 columns]\n"
     ]
    }
   ],
   "source": [
    "sorted_browser.to_csv(r'C:\\Users\\luand\\UCSD_SD_DATA\\Project-Files\\New_data_csv\\cleaned_data.csv', index=True, header = True)\n",
    "print(browser_df)"
   ]
  },
  {
   "cell_type": "code",
   "execution_count": 15,
   "metadata": {},
   "outputs": [],
   "source": [
    "hit_pages_path = 'New_data_csv/Hits_Page/Hits_Page.csv'"
   ]
  },
  {
   "cell_type": "code",
   "execution_count": 18,
   "metadata": {},
   "outputs": [
    {
     "output_type": "execute_result",
     "data": {
      "text/plain": [
       "       visitId        fullVisitorId pagePath                        hostname  \\\n",
       "0   1478008845  9352881518669559847    /home  www.googlemerchandisestore.com   \n",
       "1   1478002133  4906813510055416703    /home  www.googlemerchandisestore.com   \n",
       "2   1477995977  4091646801425702074    /home  www.googlemerchandisestore.com   \n",
       "3   1478034201  5401793363522001290    /home  www.googlemerchandisestore.com   \n",
       "4   1478055650  4440833520759626888    /home  www.googlemerchandisestore.com   \n",
       "5   1478004902  4117892917492985550    /home  www.googlemerchandisestore.com   \n",
       "6   1478017327  9331539779363444493    /home  www.googlemerchandisestore.com   \n",
       "7   1478030629  2950916692439446426    /home  www.googlemerchandisestore.com   \n",
       "8   1478053841  1063735344182861016    /home  www.googlemerchandisestore.com   \n",
       "9   1477999633  5853608616657906344    /home  www.googlemerchandisestore.com   \n",
       "10  1478035331  5438610451146798739    /home  www.googlemerchandisestore.com   \n",
       "11  1477993686  7643887627832413677    /home  www.googlemerchandisestore.com   \n",
       "12  1478007791  7056159303429818352    /home  www.googlemerchandisestore.com   \n",
       "13  1478011617   822063744245507195    /home  www.googlemerchandisestore.com   \n",
       "14  1478013433  1374604189467793731    /home  www.googlemerchandisestore.com   \n",
       "15  1478012112  4756908582791219126    /home  www.googlemerchandisestore.com   \n",
       "16  1478013284  1173779748805978180    /home  www.googlemerchandisestore.com   \n",
       "17  1478037158  9327945157034205617    /home  www.googlemerchandisestore.com   \n",
       "18  1478010607  9589013743573470520    /home  www.googlemerchandisestore.com   \n",
       "19  1478003928  4608488159447817890    /home  www.googlemerchandisestore.com   \n",
       "\n",
       "              pageTitle pagePathLevel1 pagePathLevel2 pagePathLevel3  \\\n",
       "0   Google Online Store          /home            NaN            NaN   \n",
       "1   Google Online Store          /home            NaN            NaN   \n",
       "2   Google Online Store          /home            NaN            NaN   \n",
       "3   Google Online Store          /home            NaN            NaN   \n",
       "4   Google Online Store          /home            NaN            NaN   \n",
       "5   Google Online Store          /home            NaN            NaN   \n",
       "6   Google Online Store          /home            NaN            NaN   \n",
       "7   Google Online Store          /home            NaN            NaN   \n",
       "8   Google Online Store          /home            NaN            NaN   \n",
       "9   Google Online Store          /home            NaN            NaN   \n",
       "10  Google Online Store          /home            NaN            NaN   \n",
       "11  Google Online Store          /home            NaN            NaN   \n",
       "12  Google Online Store          /home            NaN            NaN   \n",
       "13  Google Online Store          /home            NaN            NaN   \n",
       "14  Google Online Store          /home            NaN            NaN   \n",
       "15  Google Online Store          /home            NaN            NaN   \n",
       "16  Google Online Store          /home            NaN            NaN   \n",
       "17  Google Online Store          /home            NaN            NaN   \n",
       "18  Google Online Store          /home            NaN            NaN   \n",
       "19  Google Online Store          /home            NaN            NaN   \n",
       "\n",
       "   pagePathLevel4  \n",
       "0             NaN  \n",
       "1             NaN  \n",
       "2             NaN  \n",
       "3             NaN  \n",
       "4             NaN  \n",
       "5             NaN  \n",
       "6             NaN  \n",
       "7             NaN  \n",
       "8             NaN  \n",
       "9             NaN  \n",
       "10            NaN  \n",
       "11            NaN  \n",
       "12            NaN  \n",
       "13            NaN  \n",
       "14            NaN  \n",
       "15            NaN  \n",
       "16            NaN  \n",
       "17            NaN  \n",
       "18            NaN  \n",
       "19            NaN  "
      ],
      "text/html": "<div>\n<style scoped>\n    .dataframe tbody tr th:only-of-type {\n        vertical-align: middle;\n    }\n\n    .dataframe tbody tr th {\n        vertical-align: top;\n    }\n\n    .dataframe thead th {\n        text-align: right;\n    }\n</style>\n<table border=\"1\" class=\"dataframe\">\n  <thead>\n    <tr style=\"text-align: right;\">\n      <th></th>\n      <th>visitId</th>\n      <th>fullVisitorId</th>\n      <th>pagePath</th>\n      <th>hostname</th>\n      <th>pageTitle</th>\n      <th>pagePathLevel1</th>\n      <th>pagePathLevel2</th>\n      <th>pagePathLevel3</th>\n      <th>pagePathLevel4</th>\n    </tr>\n  </thead>\n  <tbody>\n    <tr>\n      <th>0</th>\n      <td>1478008845</td>\n      <td>9352881518669559847</td>\n      <td>/home</td>\n      <td>www.googlemerchandisestore.com</td>\n      <td>Google Online Store</td>\n      <td>/home</td>\n      <td>NaN</td>\n      <td>NaN</td>\n      <td>NaN</td>\n    </tr>\n    <tr>\n      <th>1</th>\n      <td>1478002133</td>\n      <td>4906813510055416703</td>\n      <td>/home</td>\n      <td>www.googlemerchandisestore.com</td>\n      <td>Google Online Store</td>\n      <td>/home</td>\n      <td>NaN</td>\n      <td>NaN</td>\n      <td>NaN</td>\n    </tr>\n    <tr>\n      <th>2</th>\n      <td>1477995977</td>\n      <td>4091646801425702074</td>\n      <td>/home</td>\n      <td>www.googlemerchandisestore.com</td>\n      <td>Google Online Store</td>\n      <td>/home</td>\n      <td>NaN</td>\n      <td>NaN</td>\n      <td>NaN</td>\n    </tr>\n    <tr>\n      <th>3</th>\n      <td>1478034201</td>\n      <td>5401793363522001290</td>\n      <td>/home</td>\n      <td>www.googlemerchandisestore.com</td>\n      <td>Google Online Store</td>\n      <td>/home</td>\n      <td>NaN</td>\n      <td>NaN</td>\n      <td>NaN</td>\n    </tr>\n    <tr>\n      <th>4</th>\n      <td>1478055650</td>\n      <td>4440833520759626888</td>\n      <td>/home</td>\n      <td>www.googlemerchandisestore.com</td>\n      <td>Google Online Store</td>\n      <td>/home</td>\n      <td>NaN</td>\n      <td>NaN</td>\n      <td>NaN</td>\n    </tr>\n    <tr>\n      <th>5</th>\n      <td>1478004902</td>\n      <td>4117892917492985550</td>\n      <td>/home</td>\n      <td>www.googlemerchandisestore.com</td>\n      <td>Google Online Store</td>\n      <td>/home</td>\n      <td>NaN</td>\n      <td>NaN</td>\n      <td>NaN</td>\n    </tr>\n    <tr>\n      <th>6</th>\n      <td>1478017327</td>\n      <td>9331539779363444493</td>\n      <td>/home</td>\n      <td>www.googlemerchandisestore.com</td>\n      <td>Google Online Store</td>\n      <td>/home</td>\n      <td>NaN</td>\n      <td>NaN</td>\n      <td>NaN</td>\n    </tr>\n    <tr>\n      <th>7</th>\n      <td>1478030629</td>\n      <td>2950916692439446426</td>\n      <td>/home</td>\n      <td>www.googlemerchandisestore.com</td>\n      <td>Google Online Store</td>\n      <td>/home</td>\n      <td>NaN</td>\n      <td>NaN</td>\n      <td>NaN</td>\n    </tr>\n    <tr>\n      <th>8</th>\n      <td>1478053841</td>\n      <td>1063735344182861016</td>\n      <td>/home</td>\n      <td>www.googlemerchandisestore.com</td>\n      <td>Google Online Store</td>\n      <td>/home</td>\n      <td>NaN</td>\n      <td>NaN</td>\n      <td>NaN</td>\n    </tr>\n    <tr>\n      <th>9</th>\n      <td>1477999633</td>\n      <td>5853608616657906344</td>\n      <td>/home</td>\n      <td>www.googlemerchandisestore.com</td>\n      <td>Google Online Store</td>\n      <td>/home</td>\n      <td>NaN</td>\n      <td>NaN</td>\n      <td>NaN</td>\n    </tr>\n    <tr>\n      <th>10</th>\n      <td>1478035331</td>\n      <td>5438610451146798739</td>\n      <td>/home</td>\n      <td>www.googlemerchandisestore.com</td>\n      <td>Google Online Store</td>\n      <td>/home</td>\n      <td>NaN</td>\n      <td>NaN</td>\n      <td>NaN</td>\n    </tr>\n    <tr>\n      <th>11</th>\n      <td>1477993686</td>\n      <td>7643887627832413677</td>\n      <td>/home</td>\n      <td>www.googlemerchandisestore.com</td>\n      <td>Google Online Store</td>\n      <td>/home</td>\n      <td>NaN</td>\n      <td>NaN</td>\n      <td>NaN</td>\n    </tr>\n    <tr>\n      <th>12</th>\n      <td>1478007791</td>\n      <td>7056159303429818352</td>\n      <td>/home</td>\n      <td>www.googlemerchandisestore.com</td>\n      <td>Google Online Store</td>\n      <td>/home</td>\n      <td>NaN</td>\n      <td>NaN</td>\n      <td>NaN</td>\n    </tr>\n    <tr>\n      <th>13</th>\n      <td>1478011617</td>\n      <td>822063744245507195</td>\n      <td>/home</td>\n      <td>www.googlemerchandisestore.com</td>\n      <td>Google Online Store</td>\n      <td>/home</td>\n      <td>NaN</td>\n      <td>NaN</td>\n      <td>NaN</td>\n    </tr>\n    <tr>\n      <th>14</th>\n      <td>1478013433</td>\n      <td>1374604189467793731</td>\n      <td>/home</td>\n      <td>www.googlemerchandisestore.com</td>\n      <td>Google Online Store</td>\n      <td>/home</td>\n      <td>NaN</td>\n      <td>NaN</td>\n      <td>NaN</td>\n    </tr>\n    <tr>\n      <th>15</th>\n      <td>1478012112</td>\n      <td>4756908582791219126</td>\n      <td>/home</td>\n      <td>www.googlemerchandisestore.com</td>\n      <td>Google Online Store</td>\n      <td>/home</td>\n      <td>NaN</td>\n      <td>NaN</td>\n      <td>NaN</td>\n    </tr>\n    <tr>\n      <th>16</th>\n      <td>1478013284</td>\n      <td>1173779748805978180</td>\n      <td>/home</td>\n      <td>www.googlemerchandisestore.com</td>\n      <td>Google Online Store</td>\n      <td>/home</td>\n      <td>NaN</td>\n      <td>NaN</td>\n      <td>NaN</td>\n    </tr>\n    <tr>\n      <th>17</th>\n      <td>1478037158</td>\n      <td>9327945157034205617</td>\n      <td>/home</td>\n      <td>www.googlemerchandisestore.com</td>\n      <td>Google Online Store</td>\n      <td>/home</td>\n      <td>NaN</td>\n      <td>NaN</td>\n      <td>NaN</td>\n    </tr>\n    <tr>\n      <th>18</th>\n      <td>1478010607</td>\n      <td>9589013743573470520</td>\n      <td>/home</td>\n      <td>www.googlemerchandisestore.com</td>\n      <td>Google Online Store</td>\n      <td>/home</td>\n      <td>NaN</td>\n      <td>NaN</td>\n      <td>NaN</td>\n    </tr>\n    <tr>\n      <th>19</th>\n      <td>1478003928</td>\n      <td>4608488159447817890</td>\n      <td>/home</td>\n      <td>www.googlemerchandisestore.com</td>\n      <td>Google Online Store</td>\n      <td>/home</td>\n      <td>NaN</td>\n      <td>NaN</td>\n      <td>NaN</td>\n    </tr>\n  </tbody>\n</table>\n</div>"
     },
     "metadata": {},
     "execution_count": 18
    }
   ],
   "source": [
    "hit_page_df = pd.read_csv(hit_pages_path, encoding=\"utf-8\")\n",
    "hit_page_df.head(20)"
   ]
  },
  {
   "cell_type": "code",
   "execution_count": 17,
   "metadata": {},
   "outputs": [
    {
     "output_type": "execute_result",
     "data": {
      "text/plain": [
       "visitId           416071\n",
       "fullVisitorId     416071\n",
       "pagePath          416071\n",
       "hostname          416071\n",
       "pageTitle         416044\n",
       "pagePathLevel1    416071\n",
       "pagePathLevel2    197568\n",
       "pagePathLevel3    160072\n",
       "pagePathLevel4     68213\n",
       "dtype: int64"
      ]
     },
     "metadata": {},
     "execution_count": 17
    }
   ],
   "source": [
    "hit_page_df.count()"
   ]
  },
  {
   "cell_type": "code",
   "execution_count": 25,
   "metadata": {},
   "outputs": [
    {
     "output_type": "execute_result",
     "data": {
      "text/plain": [
       "                Visitors                          Domain\n",
       "0    9352881518669559847  www.googlemerchandisestore.com\n",
       "1    4906813510055416703  www.googlemerchandisestore.com\n",
       "2    4091646801425702074  www.googlemerchandisestore.com\n",
       "3    5401793363522001290  www.googlemerchandisestore.com\n",
       "4    4440833520759626888  www.googlemerchandisestore.com\n",
       "..                   ...                             ...\n",
       "295  1415334905371212848  www.googlemerchandisestore.com\n",
       "296  9879976446716457789  www.googlemerchandisestore.com\n",
       "297  9210193289313557479  www.googlemerchandisestore.com\n",
       "298   645901153671541537  www.googlemerchandisestore.com\n",
       "299  8004767510725447834  www.googlemerchandisestore.com\n",
       "\n",
       "[300 rows x 2 columns]"
      ],
      "text/html": "<div>\n<style scoped>\n    .dataframe tbody tr th:only-of-type {\n        vertical-align: middle;\n    }\n\n    .dataframe tbody tr th {\n        vertical-align: top;\n    }\n\n    .dataframe thead th {\n        text-align: right;\n    }\n</style>\n<table border=\"1\" class=\"dataframe\">\n  <thead>\n    <tr style=\"text-align: right;\">\n      <th></th>\n      <th>Visitors</th>\n      <th>Domain</th>\n    </tr>\n  </thead>\n  <tbody>\n    <tr>\n      <th>0</th>\n      <td>9352881518669559847</td>\n      <td>www.googlemerchandisestore.com</td>\n    </tr>\n    <tr>\n      <th>1</th>\n      <td>4906813510055416703</td>\n      <td>www.googlemerchandisestore.com</td>\n    </tr>\n    <tr>\n      <th>2</th>\n      <td>4091646801425702074</td>\n      <td>www.googlemerchandisestore.com</td>\n    </tr>\n    <tr>\n      <th>3</th>\n      <td>5401793363522001290</td>\n      <td>www.googlemerchandisestore.com</td>\n    </tr>\n    <tr>\n      <th>4</th>\n      <td>4440833520759626888</td>\n      <td>www.googlemerchandisestore.com</td>\n    </tr>\n    <tr>\n      <th>...</th>\n      <td>...</td>\n      <td>...</td>\n    </tr>\n    <tr>\n      <th>295</th>\n      <td>1415334905371212848</td>\n      <td>www.googlemerchandisestore.com</td>\n    </tr>\n    <tr>\n      <th>296</th>\n      <td>9879976446716457789</td>\n      <td>www.googlemerchandisestore.com</td>\n    </tr>\n    <tr>\n      <th>297</th>\n      <td>9210193289313557479</td>\n      <td>www.googlemerchandisestore.com</td>\n    </tr>\n    <tr>\n      <th>298</th>\n      <td>645901153671541537</td>\n      <td>www.googlemerchandisestore.com</td>\n    </tr>\n    <tr>\n      <th>299</th>\n      <td>8004767510725447834</td>\n      <td>www.googlemerchandisestore.com</td>\n    </tr>\n  </tbody>\n</table>\n<p>300 rows × 2 columns</p>\n</div>"
     },
     "metadata": {},
     "execution_count": 25
    }
   ],
   "source": [
    "domain_data_df = pd.DataFrame({\"Visitors\": hit_page_df[\"fullVisitorId\"], \n",
    "                                \"Domain\": hit_page_df[\"hostname\"],\n",
    "                                \"Path\": hit_page_df[\"pagePath\"]\n",
    "                                \"path1\": hit_page_df[\"pagePathLevel1\"]\n",
    "                                 })\n",
    "domain_data_df.head(300)"
   ]
  },
  {
   "cell_type": "code",
   "execution_count": 23,
   "metadata": {},
   "outputs": [
    {
     "output_type": "execute_result",
     "data": {
      "text/plain": [
       "Visitors    416071\n",
       "Domain      416071\n",
       "dtype: int64"
      ]
     },
     "metadata": {},
     "execution_count": 23
    }
   ],
   "source": [
    "domain_data_df.count()\n"
   ]
  },
  {
   "cell_type": "code",
   "execution_count": 24,
   "metadata": {},
   "outputs": [
    {
     "output_type": "execute_result",
     "data": {
      "text/plain": [
       "array(['www.googlemerchandisestore.com',\n",
       "       'shop.googlemerchandisestore.com'], dtype=object)"
      ]
     },
     "metadata": {},
     "execution_count": 24
    }
   ],
   "source": [
    "domain_type = domain_data_df[\"Domain\"].unique()\n",
    "domain_type"
   ]
  },
  {
   "cell_type": "code",
   "execution_count": null,
   "metadata": {},
   "outputs": [],
   "source": []
  }
 ]
}