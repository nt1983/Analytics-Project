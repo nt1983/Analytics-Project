{
 "metadata": {
  "language_info": {
   "codemirror_mode": {
    "name": "ipython",
    "version": 3
   },
   "file_extension": ".py",
   "mimetype": "text/x-python",
   "name": "python",
   "nbconvert_exporter": "python",
   "pygments_lexer": "ipython3",
   "version": "3.8.5"
  },
  "orig_nbformat": 2,
  "kernelspec": {
   "name": "python3",
   "display_name": "Python 3.8.5 64-bit ('base': conda)",
   "metadata": {
    "interpreter": {
     "hash": "33888a5d72fd546c510608f5704d454dda4fecfe28f012ab1603f1178be745ca"
    }
   }
  }
 },
 "nbformat": 4,
 "nbformat_minor": 2,
 "cells": [
  {
   "cell_type": "code",
   "execution_count": 3,
   "metadata": {},
   "outputs": [],
   "source": [
    "import pandas as pd\n",
    "import numpy as np\n",
    "import sqlalchemy\n",
    "from sqlalchemy.ext.automap import automap_base\n",
    "from sqlalchemy.orm import Session\n",
    "from sqlalchemy import create_engine, inspect, func\n",
    "import os, sys\n",
    "import datetime as dt"
   ]
  },
  {
   "cell_type": "code",
   "execution_count": 4,
   "metadata": {},
   "outputs": [
    {
     "output_type": "execute_result",
     "data": {
      "text/plain": [
       "      visitId        fullVisitorId      date channelGrouping  hits  \\\n",
       "0  1478008845  9352881518669559847  20161101  Organic Search     1   \n",
       "1  1478002133  4906813510055416703  20161101  Organic Search     1   \n",
       "2  1477995977  4091646801425702074  20161101  Organic Search     1   \n",
       "3  1478034201  5401793363522001290  20161101          Direct     1   \n",
       "4  1478055650  4440833520759626888  20161101  Organic Search     1   \n",
       "\n",
       "   timeOnSite     browser operatingSystem deviceCategory continent  \\\n",
       "0         NaN      Chrome         Android         mobile    Europe   \n",
       "1         NaN      Chrome         Windows        desktop      Asia   \n",
       "2         NaN      Chrome         Windows        desktop    Europe   \n",
       "3         NaN  Opera Mini         Android         mobile    Africa   \n",
       "4         NaN      Chrome           Linux        desktop  Americas   \n",
       "\n",
       "         country                         region  \\\n",
       "0        Germany                        Hamburg   \n",
       "1         Taiwan                    Taipei City   \n",
       "2          Spain  not available in demo dataset   \n",
       "3          Niger  not available in demo dataset   \n",
       "4  United States  not available in demo dataset   \n",
       "\n",
       "                            city  networkDomain  \n",
       "0                        Hamburg      (not set)  \n",
       "1                      (not set)      hinet.net  \n",
       "2  not available in demo dataset  comunitel.net  \n",
       "3  not available in demo dataset      (not set)  \n",
       "4  not available in demo dataset       utah.edu  "
      ],
      "text/html": "<div>\n<style scoped>\n    .dataframe tbody tr th:only-of-type {\n        vertical-align: middle;\n    }\n\n    .dataframe tbody tr th {\n        vertical-align: top;\n    }\n\n    .dataframe thead th {\n        text-align: right;\n    }\n</style>\n<table border=\"1\" class=\"dataframe\">\n  <thead>\n    <tr style=\"text-align: right;\">\n      <th></th>\n      <th>visitId</th>\n      <th>fullVisitorId</th>\n      <th>date</th>\n      <th>channelGrouping</th>\n      <th>hits</th>\n      <th>timeOnSite</th>\n      <th>browser</th>\n      <th>operatingSystem</th>\n      <th>deviceCategory</th>\n      <th>continent</th>\n      <th>country</th>\n      <th>region</th>\n      <th>city</th>\n      <th>networkDomain</th>\n    </tr>\n  </thead>\n  <tbody>\n    <tr>\n      <th>0</th>\n      <td>1478008845</td>\n      <td>9352881518669559847</td>\n      <td>20161101</td>\n      <td>Organic Search</td>\n      <td>1</td>\n      <td>NaN</td>\n      <td>Chrome</td>\n      <td>Android</td>\n      <td>mobile</td>\n      <td>Europe</td>\n      <td>Germany</td>\n      <td>Hamburg</td>\n      <td>Hamburg</td>\n      <td>(not set)</td>\n    </tr>\n    <tr>\n      <th>1</th>\n      <td>1478002133</td>\n      <td>4906813510055416703</td>\n      <td>20161101</td>\n      <td>Organic Search</td>\n      <td>1</td>\n      <td>NaN</td>\n      <td>Chrome</td>\n      <td>Windows</td>\n      <td>desktop</td>\n      <td>Asia</td>\n      <td>Taiwan</td>\n      <td>Taipei City</td>\n      <td>(not set)</td>\n      <td>hinet.net</td>\n    </tr>\n    <tr>\n      <th>2</th>\n      <td>1477995977</td>\n      <td>4091646801425702074</td>\n      <td>20161101</td>\n      <td>Organic Search</td>\n      <td>1</td>\n      <td>NaN</td>\n      <td>Chrome</td>\n      <td>Windows</td>\n      <td>desktop</td>\n      <td>Europe</td>\n      <td>Spain</td>\n      <td>not available in demo dataset</td>\n      <td>not available in demo dataset</td>\n      <td>comunitel.net</td>\n    </tr>\n    <tr>\n      <th>3</th>\n      <td>1478034201</td>\n      <td>5401793363522001290</td>\n      <td>20161101</td>\n      <td>Direct</td>\n      <td>1</td>\n      <td>NaN</td>\n      <td>Opera Mini</td>\n      <td>Android</td>\n      <td>mobile</td>\n      <td>Africa</td>\n      <td>Niger</td>\n      <td>not available in demo dataset</td>\n      <td>not available in demo dataset</td>\n      <td>(not set)</td>\n    </tr>\n    <tr>\n      <th>4</th>\n      <td>1478055650</td>\n      <td>4440833520759626888</td>\n      <td>20161101</td>\n      <td>Organic Search</td>\n      <td>1</td>\n      <td>NaN</td>\n      <td>Chrome</td>\n      <td>Linux</td>\n      <td>desktop</td>\n      <td>Americas</td>\n      <td>United States</td>\n      <td>not available in demo dataset</td>\n      <td>not available in demo dataset</td>\n      <td>utah.edu</td>\n    </tr>\n  </tbody>\n</table>\n</div>"
     },
     "metadata": {},
     "execution_count": 4
    }
   ],
   "source": [
    "clean_main_data = pd.read_csv(\"clean_main_data.csv\")\n",
    "clean_main_data.head()"
   ]
  },
  {
   "cell_type": "code",
   "execution_count": 37,
   "metadata": {},
   "outputs": [
    {
     "output_type": "execute_result",
     "data": {
      "text/plain": [
       "            fullVisitorId  date  channelGrouping  hits  timeOnSite  browser  \\\n",
       "visitId                                                                       \n",
       "1477982346              1     1                1     1           1        1   \n",
       "1477983528              1     1                1     1           1        1   \n",
       "1477983600              1     1                1     1           1        1   \n",
       "1477983612              1     1                1     1           0        1   \n",
       "1477983632              1     1                1     1           0        1   \n",
       "...                   ...   ...              ...   ...         ...      ...   \n",
       "1480579043              1     1                1     1           1        1   \n",
       "1480579097              1     1                1     1           1        1   \n",
       "1480579111              2     2                2     2           0        2   \n",
       "1480579149              1     1                1     1           0        1   \n",
       "1480579173              1     1                1     1           0        1   \n",
       "\n",
       "            operatingSystem  deviceCategory  continent  country  region  city  \\\n",
       "visitId                                                                         \n",
       "1477982346                1               1          1        1       1     1   \n",
       "1477983528                1               1          1        1       1     1   \n",
       "1477983600                1               1          1        1       1     1   \n",
       "1477983612                1               1          1        1       1     1   \n",
       "1477983632                1               1          1        1       1     1   \n",
       "...                     ...             ...        ...      ...     ...   ...   \n",
       "1480579043                1               1          1        1       1     1   \n",
       "1480579097                1               1          1        1       1     1   \n",
       "1480579111                2               2          2        2       2     2   \n",
       "1480579149                1               1          1        1       1     1   \n",
       "1480579173                1               1          1        1       1     1   \n",
       "\n",
       "            networkDomain  \n",
       "visitId                    \n",
       "1477982346              1  \n",
       "1477983528              1  \n",
       "1477983600              1  \n",
       "1477983612              1  \n",
       "1477983632              1  \n",
       "...                   ...  \n",
       "1480579043              1  \n",
       "1480579097              1  \n",
       "1480579111              2  \n",
       "1480579149              1  \n",
       "1480579173              1  \n",
       "\n",
       "[93476 rows x 13 columns]"
      ],
      "text/html": "<div>\n<style scoped>\n    .dataframe tbody tr th:only-of-type {\n        vertical-align: middle;\n    }\n\n    .dataframe tbody tr th {\n        vertical-align: top;\n    }\n\n    .dataframe thead th {\n        text-align: right;\n    }\n</style>\n<table border=\"1\" class=\"dataframe\">\n  <thead>\n    <tr style=\"text-align: right;\">\n      <th></th>\n      <th>fullVisitorId</th>\n      <th>date</th>\n      <th>channelGrouping</th>\n      <th>hits</th>\n      <th>timeOnSite</th>\n      <th>browser</th>\n      <th>operatingSystem</th>\n      <th>deviceCategory</th>\n      <th>continent</th>\n      <th>country</th>\n      <th>region</th>\n      <th>city</th>\n      <th>networkDomain</th>\n    </tr>\n    <tr>\n      <th>visitId</th>\n      <th></th>\n      <th></th>\n      <th></th>\n      <th></th>\n      <th></th>\n      <th></th>\n      <th></th>\n      <th></th>\n      <th></th>\n      <th></th>\n      <th></th>\n      <th></th>\n      <th></th>\n    </tr>\n  </thead>\n  <tbody>\n    <tr>\n      <th>1477982346</th>\n      <td>1</td>\n      <td>1</td>\n      <td>1</td>\n      <td>1</td>\n      <td>1</td>\n      <td>1</td>\n      <td>1</td>\n      <td>1</td>\n      <td>1</td>\n      <td>1</td>\n      <td>1</td>\n      <td>1</td>\n      <td>1</td>\n    </tr>\n    <tr>\n      <th>1477983528</th>\n      <td>1</td>\n      <td>1</td>\n      <td>1</td>\n      <td>1</td>\n      <td>1</td>\n      <td>1</td>\n      <td>1</td>\n      <td>1</td>\n      <td>1</td>\n      <td>1</td>\n      <td>1</td>\n      <td>1</td>\n      <td>1</td>\n    </tr>\n    <tr>\n      <th>1477983600</th>\n      <td>1</td>\n      <td>1</td>\n      <td>1</td>\n      <td>1</td>\n      <td>1</td>\n      <td>1</td>\n      <td>1</td>\n      <td>1</td>\n      <td>1</td>\n      <td>1</td>\n      <td>1</td>\n      <td>1</td>\n      <td>1</td>\n    </tr>\n    <tr>\n      <th>1477983612</th>\n      <td>1</td>\n      <td>1</td>\n      <td>1</td>\n      <td>1</td>\n      <td>0</td>\n      <td>1</td>\n      <td>1</td>\n      <td>1</td>\n      <td>1</td>\n      <td>1</td>\n      <td>1</td>\n      <td>1</td>\n      <td>1</td>\n    </tr>\n    <tr>\n      <th>1477983632</th>\n      <td>1</td>\n      <td>1</td>\n      <td>1</td>\n      <td>1</td>\n      <td>0</td>\n      <td>1</td>\n      <td>1</td>\n      <td>1</td>\n      <td>1</td>\n      <td>1</td>\n      <td>1</td>\n      <td>1</td>\n      <td>1</td>\n    </tr>\n    <tr>\n      <th>...</th>\n      <td>...</td>\n      <td>...</td>\n      <td>...</td>\n      <td>...</td>\n      <td>...</td>\n      <td>...</td>\n      <td>...</td>\n      <td>...</td>\n      <td>...</td>\n      <td>...</td>\n      <td>...</td>\n      <td>...</td>\n      <td>...</td>\n    </tr>\n    <tr>\n      <th>1480579043</th>\n      <td>1</td>\n      <td>1</td>\n      <td>1</td>\n      <td>1</td>\n      <td>1</td>\n      <td>1</td>\n      <td>1</td>\n      <td>1</td>\n      <td>1</td>\n      <td>1</td>\n      <td>1</td>\n      <td>1</td>\n      <td>1</td>\n    </tr>\n    <tr>\n      <th>1480579097</th>\n      <td>1</td>\n      <td>1</td>\n      <td>1</td>\n      <td>1</td>\n      <td>1</td>\n      <td>1</td>\n      <td>1</td>\n      <td>1</td>\n      <td>1</td>\n      <td>1</td>\n      <td>1</td>\n      <td>1</td>\n      <td>1</td>\n    </tr>\n    <tr>\n      <th>1480579111</th>\n      <td>2</td>\n      <td>2</td>\n      <td>2</td>\n      <td>2</td>\n      <td>0</td>\n      <td>2</td>\n      <td>2</td>\n      <td>2</td>\n      <td>2</td>\n      <td>2</td>\n      <td>2</td>\n      <td>2</td>\n      <td>2</td>\n    </tr>\n    <tr>\n      <th>1480579149</th>\n      <td>1</td>\n      <td>1</td>\n      <td>1</td>\n      <td>1</td>\n      <td>0</td>\n      <td>1</td>\n      <td>1</td>\n      <td>1</td>\n      <td>1</td>\n      <td>1</td>\n      <td>1</td>\n      <td>1</td>\n      <td>1</td>\n    </tr>\n    <tr>\n      <th>1480579173</th>\n      <td>1</td>\n      <td>1</td>\n      <td>1</td>\n      <td>1</td>\n      <td>0</td>\n      <td>1</td>\n      <td>1</td>\n      <td>1</td>\n      <td>1</td>\n      <td>1</td>\n      <td>1</td>\n      <td>1</td>\n      <td>1</td>\n    </tr>\n  </tbody>\n</table>\n<p>93476 rows × 13 columns</p>\n</div>"
     },
     "metadata": {},
     "execution_count": 37
    }
   ],
   "source": [
    "unique_desktop=clean_main_data[(clean_main_data[\"deviceCategory\"]==\"desktop\")].groupby(\"visitId\")\n",
    "unique_desktop.count()"
   ]
  },
  {
   "cell_type": "code",
   "execution_count": null,
   "metadata": {},
   "outputs": [],
   "source": []
  }
 ]
}